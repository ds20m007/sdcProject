{
 "cells": [
  {
   "cell_type": "markdown",
   "metadata": {},
   "source": [
    "# Dash App Notebook"
   ]
  },
  {
   "cell_type": "markdown",
   "metadata": {},
   "source": [
    "Read data"
   ]
  },
  {
   "cell_type": "code",
   "execution_count": 1,
   "metadata": {},
   "outputs": [],
   "source": [
    "import pandas as pd\n",
    "\n",
    "def get_accidents():\n",
    "    accidents_full = pd.read_csv('../data/Accidents0514.csv')\n",
    "\n",
    "    for name in ['Police_Force',\n",
    "     'Accident_Severity',\n",
    "     'Day_of_Week',\n",
    "     'Local_Authority_(District)',\n",
    "     'Local_Authority_(Highway)',\n",
    "     '1st_Road_Class',\n",
    "     'Road_Type',\n",
    "     'Junction_Detail',\n",
    "     'Junction_Control',\n",
    "     '2nd_Road_Class',\n",
    "     'Pedestrian_Crossing-Human_Control',\n",
    "     'Pedestrian_Crossing-Physical_Facilities',\n",
    "     'Light_Conditions',\n",
    "     'Weather_Conditions',\n",
    "     'Road_Surface_Conditions',\n",
    "     'Special_Conditions_at_Site',\n",
    "     'Carriageway_Hazards',\n",
    "     'Urban_or_Rural_Area',\n",
    "     'Did_Police_Officer_Attend_Scene_of_Accident']:\n",
    "        accidents_full = read_and_join_description(accidents_full, name)\n",
    "    return accidents_full\n",
    "\n",
    "def read_and_join_description(df, col_name):\n",
    "    col_name_new = col_name.replace('_',' ')\n",
    "    col_name_new = col_name_new.replace('?','')\n",
    "    \n",
    "    col_name_new = col_name_new.replace('Pedestrian Crossing-Human Control','Ped Cross - Human')\n",
    "    col_name_new = col_name_new.replace('Pedestrian Crossing-Physical Facilities','Ped Cross - Physical')\n",
    "    col_name_new = col_name_new.replace('Weather Conditions','Weather')\n",
    "    col_name_new = col_name_new.replace('Road Surface Conditions','Road Surface')\n",
    "    col_name_new = col_name_new.replace('Urban or Rural Area','Urban Rural')\n",
    "    col_name_new = col_name_new.replace('Did Police Officer Attend Scene of Accident','Police Officer Attend')\n",
    "    col_name_new = col_name_new.replace('Pedestrian ','Ped ')\n",
    "    col_name_new = col_name_new.replace('Bus or Coach Passenger','Bus Passenger')\n",
    "    col_name_new = col_name_new.replace('Casualty Home Area Type','Home Area Type')\n",
    "    col_name_new = col_name_new.replace('Vehicle Location-Restricted Lane','Vehicle Location')\n",
    "    col_name_new = col_name_new.replace('Vehicle Leaving Carriageway','Veh Leaving Carriageway')\n",
    "    col_name_new = col_name_new.replace('Hit Object off Carriageway','Hit Object Off Carriageway')\n",
    "    col_name_new = col_name_new.replace('Journey Purpose of Driver','Journey Purpose')\n",
    "    col_name_new = col_name_new.replace('Age Band of Casualty','Age Band')\n",
    "    col_name_new = col_name_new.replace('Age Band of Driver','Age Band')\n",
    "    col_name_new = col_name_new.replace('Propulsion Code','Vehicle Propulsion Code')\n",
    "    col_name_new = col_name_new.replace('Driver Home Area Type','Home Area Type')\n",
    "    \n",
    "    excel_data = pd.read_excel(open('../data/Road-Accident-Safety-Data-Guide.xls', 'rb'),sheet_name=col_name_new) \n",
    "    excel_data.columns = excel_data.columns.str.lower()\n",
    "    excel_data = excel_data.add_prefix(col_name+'_')\n",
    "    \n",
    "    final_df = pd.merge(df, excel_data, how = 'left', left_on=col_name, right_on=col_name+'_code')\n",
    "    final_df.drop([col_name+'_code',col_name], axis=1,inplace=True)\n",
    "    final_df.columns = final_df.columns.str.replace('_label','')\n",
    "    return final_df"
   ]
  },
  {
   "cell_type": "code",
   "execution_count": 2,
   "metadata": {},
   "outputs": [
    {
     "name": "stderr",
     "output_type": "stream",
     "text": [
      "<ipython-input-2-a44d91344a90>:1: DtypeWarning: Columns (31) have mixed types.Specify dtype option on import or set low_memory=False.\n",
      "  accidents = get_accidents()\n"
     ]
    }
   ],
   "source": [
    "accidents = get_accidents()"
   ]
  },
  {
   "cell_type": "markdown",
   "metadata": {},
   "source": [
    "## Dash specific imports"
   ]
  },
  {
   "cell_type": "code",
   "execution_count": 3,
   "metadata": {},
   "outputs": [
    {
     "name": "stderr",
     "output_type": "stream",
     "text": [
      "<ipython-input-3-ec0c20682e87>:2: UserWarning: \n",
      "The dash_core_components package is deprecated. Please replace\n",
      "`import dash_core_components as dcc` with `from dash import dcc`\n",
      "  import dash_core_components as dcc\n",
      "<ipython-input-3-ec0c20682e87>:3: UserWarning: \n",
      "The dash_html_components package is deprecated. Please replace\n",
      "`import dash_html_components as html` with `from dash import html`\n",
      "  import dash_html_components as html\n"
     ]
    }
   ],
   "source": [
    "import dash\n",
    "import dash_core_components as dcc\n",
    "import dash_html_components as html\n",
    "import plotly.express as px\n",
    "import pandas as pd"
   ]
  },
  {
   "cell_type": "markdown",
   "metadata": {},
   "source": [
    "Test fig from tutorial"
   ]
  },
  {
   "cell_type": "code",
   "execution_count": 4,
   "metadata": {},
   "outputs": [],
   "source": [
    "# assume you have a \"long-form\" data frame\n",
    "# see https://plotly.com/python/px-arguments/ for more options\n",
    "df = pd.DataFrame({\n",
    "    \"Fruit\": [\"Apples\", \"Oranges\", \"Bananas\", \"Apples\", \"Oranges\", \"Bananas\"],\n",
    "    \"Amount\": [4, 1, 2, 2, 4, 5],\n",
    "    \"City\": [\"SF\", \"SF\", \"SF\", \"Montreal\", \"Montreal\", \"Montreal\"]\n",
    "})\n",
    "\n",
    "fig = px.bar(df, x=\"Fruit\", y=\"Amount\", color=\"City\", barmode=\"group\")\n"
   ]
  },
  {
   "cell_type": "markdown",
   "metadata": {},
   "source": [
    "Test page with routing"
   ]
  },
  {
   "cell_type": "code",
   "execution_count": null,
   "metadata": {},
   "outputs": [
    {
     "name": "stdout",
     "output_type": "stream",
     "text": [
      "Dash is running on http://127.0.0.1:8050/\n",
      "\n",
      " * Serving Flask app \"__main__\" (lazy loading)\n",
      " * Environment: production\n",
      "\u001b[31m   WARNING: This is a development server. Do not use it in a production deployment.\u001b[0m\n",
      "\u001b[2m   Use a production WSGI server instead.\u001b[0m\n",
      " * Debug mode: off\n"
     ]
    },
    {
     "name": "stderr",
     "output_type": "stream",
     "text": [
      " * Running on http://127.0.0.1:8050/ (Press CTRL+C to quit)\n",
      "127.0.0.1 - - [03/Jan/2022 16:09:24] \"GET /_favicon.ico?v=2.0.0 HTTP/1.1\" 200 -\n",
      "127.0.0.1 - - [03/Jan/2022 16:09:24] \"POST /_dash-update-component HTTP/1.1\" 200 -\n"
     ]
    },
    {
     "name": "stdout",
     "output_type": "stream",
     "text": [
      "/\n"
     ]
    },
    {
     "name": "stderr",
     "output_type": "stream",
     "text": [
      "127.0.0.1 - - [03/Jan/2022 16:09:25] \"POST /_dash-update-component HTTP/1.1\" 200 -\n"
     ]
    },
    {
     "name": "stdout",
     "output_type": "stream",
     "text": [
      "/page-2\n"
     ]
    },
    {
     "name": "stderr",
     "output_type": "stream",
     "text": [
      "127.0.0.1 - - [03/Jan/2022 16:12:06] \"GET /page-2 HTTP/1.1\" 200 -\n",
      "127.0.0.1 - - [03/Jan/2022 16:12:06] \"GET /_dash-component-suites/dash/deps/react@16.v2_0_0m1638293947.14.0.min.js HTTP/1.1\" 200 -\n",
      "127.0.0.1 - - [03/Jan/2022 16:12:06] \"GET /_dash-component-suites/dash/deps/polyfill@7.v2_0_0m1638293947.12.1.min.js HTTP/1.1\" 200 -\n",
      "127.0.0.1 - - [03/Jan/2022 16:12:06] \"GET /_dash-component-suites/dash/deps/react-dom@16.v2_0_0m1638293947.14.0.min.js HTTP/1.1\" 200 -\n",
      "127.0.0.1 - - [03/Jan/2022 16:12:06] \"GET /_dash-component-suites/dash/deps/prop-types@15.v2_0_0m1638293947.7.2.min.js HTTP/1.1\" 200 -\n",
      "127.0.0.1 - - [03/Jan/2022 16:12:06] \"GET /_dash-component-suites/dash/dash-renderer/build/dash_renderer.v2_0_0m1638293947.min.js HTTP/1.1\" 200 -\n",
      "127.0.0.1 - - [03/Jan/2022 16:12:06] \"GET /_dash-component-suites/dash/dcc/dash_core_components-shared.v2_0_0m1638293947.js HTTP/1.1\" 200 -\n",
      "127.0.0.1 - - [03/Jan/2022 16:12:06] \"GET /_dash-component-suites/dash/dcc/dash_core_components.v2_0_0m1638293947.js HTTP/1.1\" 200 -\n",
      "127.0.0.1 - - [03/Jan/2022 16:12:06] \"GET /_dash-component-suites/dash/html/dash_html_components.v2_0_0m1638293947.min.js HTTP/1.1\" 200 -\n",
      "127.0.0.1 - - [03/Jan/2022 16:12:06] \"GET /_dash-component-suites/dash/dash_table/bundle.v5_0_0m1638293947.js HTTP/1.1\" 200 -\n",
      "127.0.0.1 - - [03/Jan/2022 16:12:07] \"GET /_dash-layout HTTP/1.1\" 200 -\n",
      "127.0.0.1 - - [03/Jan/2022 16:12:07] \"GET /_dash-dependencies HTTP/1.1\" 200 -\n",
      "127.0.0.1 - - [03/Jan/2022 16:12:07] \"POST /_dash-update-component HTTP/1.1\" 200 -\n",
      "127.0.0.1 - - [03/Jan/2022 16:12:07] \"GET /_dash-component-suites/dash/dcc/async-graph.js HTTP/1.1\" 200 -\n",
      "127.0.0.1 - - [03/Jan/2022 16:12:07] \"GET /_dash-component-suites/dash/dcc/async-plotlyjs.js HTTP/1.1\" 200 -\n"
     ]
    },
    {
     "name": "stdout",
     "output_type": "stream",
     "text": [
      "/page-2\n"
     ]
    },
    {
     "name": "stderr",
     "output_type": "stream",
     "text": [
      "127.0.0.1 - - [03/Jan/2022 16:14:54] \"GET /page-2 HTTP/1.1\" 200 -\n",
      "127.0.0.1 - - [03/Jan/2022 16:14:54] \"GET /_dash-layout HTTP/1.1\" 200 -\n",
      "127.0.0.1 - - [03/Jan/2022 16:14:54] \"GET /_dash-dependencies HTTP/1.1\" 200 -\n",
      "127.0.0.1 - - [03/Jan/2022 16:14:55] \"POST /_dash-update-component HTTP/1.1\" 200 -\n",
      "127.0.0.1 - - [03/Jan/2022 16:14:55] \"GET /_dash-component-suites/dash/dcc/async-graph.js HTTP/1.1\" 200 -\n",
      "127.0.0.1 - - [03/Jan/2022 16:14:55] \"GET /_dash-component-suites/dash/dcc/async-plotlyjs.js HTTP/1.1\" 200 -\n"
     ]
    },
    {
     "name": "stdout",
     "output_type": "stream",
     "text": [
      "/page-2\n"
     ]
    },
    {
     "name": "stderr",
     "output_type": "stream",
     "text": [
      "127.0.0.1 - - [03/Jan/2022 16:15:02] \"GET /page-2 HTTP/1.1\" 200 -\n",
      "127.0.0.1 - - [03/Jan/2022 16:15:02] \"GET /_dash-layout HTTP/1.1\" 200 -\n",
      "127.0.0.1 - - [03/Jan/2022 16:15:02] \"GET /_dash-dependencies HTTP/1.1\" 200 -\n",
      "127.0.0.1 - - [03/Jan/2022 16:15:02] \"POST /_dash-update-component HTTP/1.1\" 200 -\n",
      "127.0.0.1 - - [03/Jan/2022 16:15:02] \"GET /_dash-component-suites/dash/dcc/async-graph.js HTTP/1.1\" 200 -\n",
      "127.0.0.1 - - [03/Jan/2022 16:15:02] \"GET /_dash-component-suites/dash/dcc/async-plotlyjs.js HTTP/1.1\" 200 -\n"
     ]
    },
    {
     "name": "stdout",
     "output_type": "stream",
     "text": [
      "/page-2\n"
     ]
    },
    {
     "name": "stderr",
     "output_type": "stream",
     "text": [
      "127.0.0.1 - - [03/Jan/2022 16:15:12] \"GET /page-2 HTTP/1.1\" 200 -\n",
      "127.0.0.1 - - [03/Jan/2022 16:15:12] \"GET /_dash-component-suites/dash/deps/react@16.v2_0_0m1638293947.14.0.min.js HTTP/1.1\" 200 -\n",
      "127.0.0.1 - - [03/Jan/2022 16:15:12] \"GET /_dash-component-suites/dash/deps/polyfill@7.v2_0_0m1638293947.12.1.min.js HTTP/1.1\" 200 -\n",
      "127.0.0.1 - - [03/Jan/2022 16:15:12] \"GET /_dash-component-suites/dash/deps/prop-types@15.v2_0_0m1638293947.7.2.min.js HTTP/1.1\" 200 -\n",
      "127.0.0.1 - - [03/Jan/2022 16:15:12] \"GET /_dash-component-suites/dash/deps/react-dom@16.v2_0_0m1638293947.14.0.min.js HTTP/1.1\" 200 -\n",
      "127.0.0.1 - - [03/Jan/2022 16:15:12] \"GET /_dash-component-suites/dash/dash-renderer/build/dash_renderer.v2_0_0m1638293947.min.js HTTP/1.1\" 200 -\n",
      "127.0.0.1 - - [03/Jan/2022 16:15:12] \"GET /_dash-component-suites/dash/dcc/dash_core_components.v2_0_0m1638293947.js HTTP/1.1\" 200 -\n",
      "127.0.0.1 - - [03/Jan/2022 16:15:12] \"GET /_dash-component-suites/dash/dcc/dash_core_components-shared.v2_0_0m1638293947.js HTTP/1.1\" 200 -\n",
      "127.0.0.1 - - [03/Jan/2022 16:15:12] \"GET /_dash-component-suites/dash/html/dash_html_components.v2_0_0m1638293947.min.js HTTP/1.1\" 200 -\n",
      "127.0.0.1 - - [03/Jan/2022 16:15:12] \"GET /_dash-component-suites/dash/dash_table/bundle.v5_0_0m1638293947.js HTTP/1.1\" 200 -\n",
      "127.0.0.1 - - [03/Jan/2022 16:15:12] \"GET /_dash-layout HTTP/1.1\" 200 -\n",
      "127.0.0.1 - - [03/Jan/2022 16:15:12] \"GET /_dash-dependencies HTTP/1.1\" 200 -\n",
      "127.0.0.1 - - [03/Jan/2022 16:15:12] \"POST /_dash-update-component HTTP/1.1\" 200 -\n",
      "127.0.0.1 - - [03/Jan/2022 16:15:12] \"GET /_dash-component-suites/dash/dcc/async-graph.js HTTP/1.1\" 200 -\n",
      "127.0.0.1 - - [03/Jan/2022 16:15:12] \"GET /_dash-component-suites/dash/dcc/async-plotlyjs.js HTTP/1.1\" 200 -\n"
     ]
    },
    {
     "name": "stdout",
     "output_type": "stream",
     "text": [
      "/page-2\n"
     ]
    },
    {
     "name": "stderr",
     "output_type": "stream",
     "text": [
      "127.0.0.1 - - [03/Jan/2022 16:17:02] \"GET /page-2 HTTP/1.1\" 200 -\n",
      "127.0.0.1 - - [03/Jan/2022 16:17:02] \"GET /_dash-layout HTTP/1.1\" 200 -\n",
      "127.0.0.1 - - [03/Jan/2022 16:17:02] \"GET /_dash-dependencies HTTP/1.1\" 200 -\n",
      "127.0.0.1 - - [03/Jan/2022 16:17:03] \"POST /_dash-update-component HTTP/1.1\" 200 -\n",
      "127.0.0.1 - - [03/Jan/2022 16:17:03] \"GET /_dash-component-suites/dash/dcc/async-graph.js HTTP/1.1\" 200 -\n",
      "127.0.0.1 - - [03/Jan/2022 16:17:03] \"GET /_dash-component-suites/dash/dcc/async-plotlyjs.js HTTP/1.1\" 200 -\n"
     ]
    },
    {
     "name": "stdout",
     "output_type": "stream",
     "text": [
      "/page-2\n"
     ]
    },
    {
     "name": "stderr",
     "output_type": "stream",
     "text": [
      "127.0.0.1 - - [03/Jan/2022 16:19:22] \"GET /page-2 HTTP/1.1\" 200 -\n",
      "127.0.0.1 - - [03/Jan/2022 16:19:22] \"GET /_dash-layout HTTP/1.1\" 200 -\n",
      "127.0.0.1 - - [03/Jan/2022 16:19:22] \"GET /_dash-dependencies HTTP/1.1\" 200 -\n",
      "127.0.0.1 - - [03/Jan/2022 16:19:22] \"POST /_dash-update-component HTTP/1.1\" 200 -\n",
      "127.0.0.1 - - [03/Jan/2022 16:19:22] \"GET /_dash-component-suites/dash/dcc/async-graph.js HTTP/1.1\" 200 -\n",
      "127.0.0.1 - - [03/Jan/2022 16:19:22] \"GET /_dash-component-suites/dash/dcc/async-plotlyjs.js HTTP/1.1\" 200 -\n"
     ]
    },
    {
     "name": "stdout",
     "output_type": "stream",
     "text": [
      "/page-2\n"
     ]
    },
    {
     "name": "stderr",
     "output_type": "stream",
     "text": [
      "127.0.0.1 - - [03/Jan/2022 16:19:35] \"GET /page-2 HTTP/1.1\" 200 -\n",
      "127.0.0.1 - - [03/Jan/2022 16:19:35] \"GET /_dash-layout HTTP/1.1\" 200 -\n",
      "127.0.0.1 - - [03/Jan/2022 16:19:35] \"GET /_dash-dependencies HTTP/1.1\" 200 -\n",
      "127.0.0.1 - - [03/Jan/2022 16:19:35] \"POST /_dash-update-component HTTP/1.1\" 200 -\n",
      "127.0.0.1 - - [03/Jan/2022 16:19:35] \"GET /_dash-component-suites/dash/dcc/async-graph.js HTTP/1.1\" 200 -\n",
      "127.0.0.1 - - [03/Jan/2022 16:19:35] \"GET /_dash-component-suites/dash/dcc/async-plotlyjs.js HTTP/1.1\" 200 -\n"
     ]
    },
    {
     "name": "stdout",
     "output_type": "stream",
     "text": [
      "/page-2\n"
     ]
    },
    {
     "name": "stderr",
     "output_type": "stream",
     "text": [
      "127.0.0.1 - - [03/Jan/2022 16:19:51] \"POST /_dash-update-component HTTP/1.1\" 200 -\n"
     ]
    },
    {
     "name": "stdout",
     "output_type": "stream",
     "text": [
      "/\n"
     ]
    },
    {
     "name": "stderr",
     "output_type": "stream",
     "text": [
      "127.0.0.1 - - [03/Jan/2022 16:19:51] \"POST /_dash-update-component HTTP/1.1\" 200 -\n"
     ]
    },
    {
     "name": "stdout",
     "output_type": "stream",
     "text": [
      "/page-2\n"
     ]
    },
    {
     "name": "stderr",
     "output_type": "stream",
     "text": [
      "127.0.0.1 - - [03/Jan/2022 16:21:05] \"POST /_dash-update-component HTTP/1.1\" 200 -\n"
     ]
    },
    {
     "name": "stdout",
     "output_type": "stream",
     "text": [
      "/\n"
     ]
    },
    {
     "name": "stderr",
     "output_type": "stream",
     "text": [
      "127.0.0.1 - - [03/Jan/2022 16:21:06] \"POST /_dash-update-component HTTP/1.1\" 200 -\n"
     ]
    },
    {
     "name": "stdout",
     "output_type": "stream",
     "text": [
      "/page-2\n"
     ]
    },
    {
     "name": "stderr",
     "output_type": "stream",
     "text": [
      "127.0.0.1 - - [03/Jan/2022 16:21:13] \"POST /_dash-update-component HTTP/1.1\" 200 -\n"
     ]
    },
    {
     "name": "stdout",
     "output_type": "stream",
     "text": [
      "/\n"
     ]
    },
    {
     "name": "stderr",
     "output_type": "stream",
     "text": [
      "127.0.0.1 - - [03/Jan/2022 16:21:14] \"POST /_dash-update-component HTTP/1.1\" 200 -\n"
     ]
    },
    {
     "name": "stdout",
     "output_type": "stream",
     "text": [
      "/page-2\n"
     ]
    },
    {
     "name": "stderr",
     "output_type": "stream",
     "text": [
      "127.0.0.1 - - [03/Jan/2022 16:21:47] \"POST /_dash-update-component HTTP/1.1\" 200 -\n"
     ]
    },
    {
     "name": "stdout",
     "output_type": "stream",
     "text": [
      "/\n"
     ]
    },
    {
     "name": "stderr",
     "output_type": "stream",
     "text": [
      "127.0.0.1 - - [03/Jan/2022 16:21:48] \"POST /_dash-update-component HTTP/1.1\" 200 -\n"
     ]
    },
    {
     "name": "stdout",
     "output_type": "stream",
     "text": [
      "/page-2\n"
     ]
    },
    {
     "name": "stderr",
     "output_type": "stream",
     "text": [
      "127.0.0.1 - - [03/Jan/2022 16:21:48] \"POST /_dash-update-component HTTP/1.1\" 200 -\n"
     ]
    },
    {
     "name": "stdout",
     "output_type": "stream",
     "text": [
      "/\n"
     ]
    },
    {
     "name": "stderr",
     "output_type": "stream",
     "text": [
      "127.0.0.1 - - [03/Jan/2022 16:21:49] \"POST /_dash-update-component HTTP/1.1\" 200 -\n"
     ]
    },
    {
     "name": "stdout",
     "output_type": "stream",
     "text": [
      "/page-2\n"
     ]
    },
    {
     "name": "stderr",
     "output_type": "stream",
     "text": [
      "127.0.0.1 - - [03/Jan/2022 16:22:36] \"POST /_dash-update-component HTTP/1.1\" 200 -\n"
     ]
    },
    {
     "name": "stdout",
     "output_type": "stream",
     "text": [
      "/\n"
     ]
    },
    {
     "name": "stderr",
     "output_type": "stream",
     "text": [
      "127.0.0.1 - - [03/Jan/2022 16:22:37] \"POST /_dash-update-component HTTP/1.1\" 200 -\n"
     ]
    },
    {
     "name": "stdout",
     "output_type": "stream",
     "text": [
      "/page-2\n"
     ]
    },
    {
     "name": "stderr",
     "output_type": "stream",
     "text": [
      "127.0.0.1 - - [03/Jan/2022 16:40:04] \"GET /path-2 HTTP/1.1\" 200 -\n",
      "127.0.0.1 - - [03/Jan/2022 16:40:05] \"GET /_dash-layout HTTP/1.1\" 200 -\n",
      "127.0.0.1 - - [03/Jan/2022 16:40:05] \"GET /_dash-dependencies HTTP/1.1\" 200 -\n",
      "127.0.0.1 - - [03/Jan/2022 16:40:05] \"POST /_dash-update-component HTTP/1.1\" 200 -\n"
     ]
    },
    {
     "name": "stdout",
     "output_type": "stream",
     "text": [
      "/path-2\n"
     ]
    },
    {
     "name": "stderr",
     "output_type": "stream",
     "text": [
      "127.0.0.1 - - [03/Jan/2022 16:40:10] \"POST /_dash-update-component HTTP/1.1\" 200 -\n",
      "127.0.0.1 - - [03/Jan/2022 16:40:10] \"GET /_dash-component-suites/dash/dcc/async-graph.js HTTP/1.1\" 200 -\n",
      "127.0.0.1 - - [03/Jan/2022 16:40:10] \"GET /_dash-component-suites/dash/dcc/async-plotlyjs.js HTTP/1.1\" 200 -\n"
     ]
    },
    {
     "name": "stdout",
     "output_type": "stream",
     "text": [
      "/page-2\n"
     ]
    },
    {
     "name": "stderr",
     "output_type": "stream",
     "text": [
      "127.0.0.1 - - [03/Jan/2022 16:40:12] \"POST /_dash-update-component HTTP/1.1\" 200 -\n"
     ]
    },
    {
     "name": "stdout",
     "output_type": "stream",
     "text": [
      "/\n"
     ]
    },
    {
     "name": "stderr",
     "output_type": "stream",
     "text": [
      "127.0.0.1 - - [03/Jan/2022 16:40:20] \"GET /path-2 HTTP/1.1\" 200 -\n",
      "127.0.0.1 - - [03/Jan/2022 16:40:20] \"GET /_dash-layout HTTP/1.1\" 200 -\n",
      "127.0.0.1 - - [03/Jan/2022 16:40:20] \"GET /_dash-dependencies HTTP/1.1\" 200 -\n",
      "127.0.0.1 - - [03/Jan/2022 16:40:20] \"POST /_dash-update-component HTTP/1.1\" 200 -\n"
     ]
    },
    {
     "name": "stdout",
     "output_type": "stream",
     "text": [
      "/path-2\n"
     ]
    },
    {
     "name": "stderr",
     "output_type": "stream",
     "text": [
      "127.0.0.1 - - [03/Jan/2022 16:40:31] \"GET /page-2 HTTP/1.1\" 200 -\n",
      "127.0.0.1 - - [03/Jan/2022 16:40:31] \"GET /_dash-layout HTTP/1.1\" 200 -\n",
      "127.0.0.1 - - [03/Jan/2022 16:40:31] \"GET /_dash-dependencies HTTP/1.1\" 200 -\n",
      "127.0.0.1 - - [03/Jan/2022 16:40:31] \"POST /_dash-update-component HTTP/1.1\" 200 -\n",
      "127.0.0.1 - - [03/Jan/2022 16:40:31] \"GET /_dash-component-suites/dash/dcc/async-graph.js HTTP/1.1\" 200 -\n",
      "127.0.0.1 - - [03/Jan/2022 16:40:31] \"GET /_dash-component-suites/dash/dcc/async-plotlyjs.js HTTP/1.1\" 200 -\n"
     ]
    },
    {
     "name": "stdout",
     "output_type": "stream",
     "text": [
      "/page-2\n"
     ]
    },
    {
     "name": "stderr",
     "output_type": "stream",
     "text": [
      "127.0.0.1 - - [03/Jan/2022 16:45:55] \"GET /page-2 HTTP/1.1\" 200 -\n",
      "127.0.0.1 - - [03/Jan/2022 16:45:55] \"GET /_dash-layout HTTP/1.1\" 200 -\n",
      "127.0.0.1 - - [03/Jan/2022 16:45:55] \"GET /_dash-dependencies HTTP/1.1\" 200 -\n",
      "127.0.0.1 - - [03/Jan/2022 16:45:56] \"POST /_dash-update-component HTTP/1.1\" 200 -\n",
      "127.0.0.1 - - [03/Jan/2022 16:45:56] \"GET /_dash-component-suites/dash/dcc/async-graph.js HTTP/1.1\" 200 -\n",
      "127.0.0.1 - - [03/Jan/2022 16:45:56] \"GET /_dash-component-suites/dash/dcc/async-plotlyjs.js HTTP/1.1\" 200 -\n"
     ]
    },
    {
     "name": "stdout",
     "output_type": "stream",
     "text": [
      "/page-2\n"
     ]
    },
    {
     "name": "stderr",
     "output_type": "stream",
     "text": [
      "127.0.0.1 - - [03/Jan/2022 16:46:34] \"GET /page-2 HTTP/1.1\" 200 -\n",
      "127.0.0.1 - - [03/Jan/2022 16:46:35] \"GET /_dash-layout HTTP/1.1\" 200 -\n",
      "127.0.0.1 - - [03/Jan/2022 16:46:35] \"GET /_dash-dependencies HTTP/1.1\" 200 -\n",
      "127.0.0.1 - - [03/Jan/2022 16:46:35] \"POST /_dash-update-component HTTP/1.1\" 200 -\n",
      "127.0.0.1 - - [03/Jan/2022 16:46:35] \"GET /_dash-component-suites/dash/dcc/async-graph.js HTTP/1.1\" 200 -\n",
      "127.0.0.1 - - [03/Jan/2022 16:46:35] \"GET /_dash-component-suites/dash/dcc/async-plotlyjs.js HTTP/1.1\" 200 -\n"
     ]
    },
    {
     "name": "stdout",
     "output_type": "stream",
     "text": [
      "/page-2\n"
     ]
    },
    {
     "name": "stderr",
     "output_type": "stream",
     "text": [
      "127.0.0.1 - - [03/Jan/2022 16:47:48] \"GET /page-2 HTTP/1.1\" 200 -\n",
      "127.0.0.1 - - [03/Jan/2022 16:47:50] \"GET /_dash-component-suites/dash/dash_table/bundle.js.map HTTP/1.1\" 200 -\n",
      "127.0.0.1 - - [03/Jan/2022 16:47:50] \"GET /_dash-component-suites/dash/html/dash_html_components.min.js.map HTTP/1.1\" 200 -\n",
      "127.0.0.1 - - [03/Jan/2022 16:47:50] \"GET /_dash-component-suites/dash/dcc/dash_core_components-shared.js.map HTTP/1.1\" 200 -\n",
      "127.0.0.1 - - [03/Jan/2022 16:47:50] \"GET /_dash-component-suites/dash/dcc/dash_core_components.js.map HTTP/1.1\" 200 -\n",
      "127.0.0.1 - - [03/Jan/2022 16:47:50] \"GET /_dash-layout HTTP/1.1\" 200 -\n",
      "127.0.0.1 - - [03/Jan/2022 16:47:50] \"GET /_dash-dependencies HTTP/1.1\" 200 -\n",
      "127.0.0.1 - - [03/Jan/2022 16:47:51] \"POST /_dash-update-component HTTP/1.1\" 200 -\n",
      "127.0.0.1 - - [03/Jan/2022 16:47:51] \"GET /_dash-component-suites/dash/dcc/async-plotlyjs.js HTTP/1.1\" 200 -\n",
      "127.0.0.1 - - [03/Jan/2022 16:47:51] \"GET /_dash-component-suites/dash/dcc/async-graph.js HTTP/1.1\" 200 -\n"
     ]
    },
    {
     "name": "stdout",
     "output_type": "stream",
     "text": [
      "/page-2\n"
     ]
    },
    {
     "name": "stderr",
     "output_type": "stream",
     "text": [
      "127.0.0.1 - - [03/Jan/2022 16:47:51] \"GET /_dash-component-suites/dash/dcc/async-graph.js.map HTTP/1.1\" 200 -\n",
      "127.0.0.1 - - [03/Jan/2022 16:47:56] \"GET /page-2 HTTP/1.1\" 200 -\n",
      "127.0.0.1 - - [03/Jan/2022 16:47:56] \"GET /_dash-layout HTTP/1.1\" 200 -\n",
      "127.0.0.1 - - [03/Jan/2022 16:47:56] \"GET /_dash-component-suites/dash/dcc/dash_core_components.js.map HTTP/1.1\" 200 -\n",
      "127.0.0.1 - - [03/Jan/2022 16:47:56] \"GET /_dash-component-suites/dash/dcc/dash_core_components-shared.js.map HTTP/1.1\" 200 -\n",
      "127.0.0.1 - - [03/Jan/2022 16:47:56] \"GET /_dash-component-suites/dash/html/dash_html_components.min.js.map HTTP/1.1\" 200 -\n",
      "127.0.0.1 - - [03/Jan/2022 16:47:56] \"GET /_dash-component-suites/dash/dash_table/bundle.js.map HTTP/1.1\" 200 -\n",
      "127.0.0.1 - - [03/Jan/2022 16:47:57] \"GET /_dash-dependencies HTTP/1.1\" 200 -\n",
      "127.0.0.1 - - [03/Jan/2022 16:47:57] \"POST /_dash-update-component HTTP/1.1\" 200 -\n",
      "127.0.0.1 - - [03/Jan/2022 16:47:57] \"GET /_dash-component-suites/dash/dcc/async-graph.js HTTP/1.1\" 200 -\n",
      "127.0.0.1 - - [03/Jan/2022 16:47:57] \"GET /_dash-component-suites/dash/dcc/async-plotlyjs.js HTTP/1.1\" 200 -\n",
      "127.0.0.1 - - [03/Jan/2022 16:47:57] \"GET /_dash-component-suites/dash/dcc/async-graph.js.map HTTP/1.1\" 200 -\n"
     ]
    },
    {
     "name": "stdout",
     "output_type": "stream",
     "text": [
      "/page-2\n"
     ]
    }
   ],
   "source": [
    "app = dash.Dash(__name__)\n",
    "\n",
    "app.layout = html.Div(children=[\n",
    "    html.H1(children='Hello Dash'),\n",
    "\n",
    "    html.Div(children='''\n",
    "        Dash: A web application framework for your data.\n",
    "    '''),\n",
    "\n",
    "\n",
    "    \n",
    "        # represents the URL bar, doesn't render anything\n",
    "    dcc.Location(id='url', refresh=False),\n",
    "\n",
    "    dcc.Link('Navigate to \"/\"', href='/'),\n",
    "    html.Br(),\n",
    "    dcc.Link('Navigate to \"/page-2\"', href='/page-2'),\n",
    "\n",
    "    # content will be rendered in this element\n",
    "    html.Div(id='page-content')\n",
    "    \n",
    "])\n",
    "\n",
    "@app.callback(dash.dependencies.Output('page-content', 'children'),\n",
    "              [dash.dependencies.Input('url', 'pathname')])\n",
    "def display_page(pathname):\n",
    "    print(pathname)\n",
    "    if(pathname == \"/page-2\"):\n",
    "        return html.Div([\n",
    "                dcc.Graph(\n",
    "            id='example-graph',\n",
    "            figure=fig\n",
    "        ),\n",
    "            html.H3('You are on page {}'.format(pathname))\n",
    "        ])\n",
    "    return html.Div([\n",
    "            html.H3('You are on page {}'.format(pathname))\n",
    "        ])\n",
    "\n",
    "if __name__ == '__main__':\n",
    "    app.run_server()"
   ]
  }
 ],
 "metadata": {
  "kernelspec": {
   "display_name": "Python 3",
   "language": "python",
   "name": "python3"
  },
  "language_info": {
   "codemirror_mode": {
    "name": "ipython",
    "version": 3
   },
   "file_extension": ".py",
   "mimetype": "text/x-python",
   "name": "python",
   "nbconvert_exporter": "python",
   "pygments_lexer": "ipython3",
   "version": "3.8.5"
  }
 },
 "nbformat": 4,
 "nbformat_minor": 4
}
