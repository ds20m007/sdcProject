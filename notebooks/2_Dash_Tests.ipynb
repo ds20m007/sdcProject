{
 "cells": [
  {
   "cell_type": "markdown",
   "metadata": {},
   "source": [
    "# Dash App Notebook"
   ]
  },
  {
   "cell_type": "code",
   "execution_count": 32,
   "metadata": {},
   "outputs": [],
   "source": [
    "from datetime import date\n",
    "import pandas as pd\n",
    "import dash\n",
    "import dash_core_components as dcc\n",
    "import dash_html_components as html\n",
    "from dash.dependencies import Input, Output\n",
    "import plotly.express as px\n",
    "import pandas as pd"
   ]
  },
  {
   "cell_type": "markdown",
   "metadata": {},
   "source": [
    "Read data"
   ]
  },
  {
   "cell_type": "code",
   "execution_count": 2,
   "metadata": {},
   "outputs": [],
   "source": [
    "def get_accidents():\n",
    "    accidents_full = pd.read_csv('../data/Accidents0514.csv')\n",
    "\n",
    "    for name in ['Police_Force',\n",
    "     'Accident_Severity',\n",
    "     'Day_of_Week',\n",
    "     'Local_Authority_(District)',\n",
    "     'Local_Authority_(Highway)',\n",
    "     '1st_Road_Class',\n",
    "     'Road_Type',\n",
    "     'Junction_Detail',\n",
    "     'Junction_Control',\n",
    "     '2nd_Road_Class',\n",
    "     'Pedestrian_Crossing-Human_Control',\n",
    "     'Pedestrian_Crossing-Physical_Facilities',\n",
    "     'Light_Conditions',\n",
    "     'Weather_Conditions',\n",
    "     'Road_Surface_Conditions',\n",
    "     'Special_Conditions_at_Site',\n",
    "     'Carriageway_Hazards',\n",
    "     'Urban_or_Rural_Area',\n",
    "     'Did_Police_Officer_Attend_Scene_of_Accident']:\n",
    "        accidents_full = read_and_join_description(accidents_full, name)\n",
    "    return accidents_full\n",
    "\n",
    "def get_vehicles():\n",
    "    vehicles_full = pd.read_csv('../data/Vehicles0514.csv')\n",
    "\n",
    "    for name in ['Vehicle_Type',\n",
    "                 'Towing_and_Articulation',\n",
    "                 'Vehicle_Manoeuvre',\n",
    "                 'Vehicle_Location-Restricted_Lane',\n",
    "                 'Junction_Location',\n",
    "                 'Skidding_and_Overturning',\n",
    "                 'Hit_Object_in_Carriageway',\n",
    "                 'Vehicle_Leaving_Carriageway',\n",
    "                 'Hit_Object_off_Carriageway',\n",
    "                 '1st_Point_of_Impact',\n",
    "                 'Was_Vehicle_Left_Hand_Drive?',\n",
    "                 'Journey_Purpose_of_Driver',\n",
    "                 'Sex_of_Driver',\n",
    "                 'Age_Band_of_Driver',\n",
    "                 'Propulsion_Code']:\n",
    "        vehicles_full = read_and_join_description(vehicles_full, name)\n",
    "    return vehicles_full\n",
    "\n",
    "def read_and_join_description(df, col_name):\n",
    "    col_name_new = col_name.replace('_',' ')\n",
    "    col_name_new = col_name_new.replace('?','')\n",
    "    \n",
    "    col_name_new = col_name_new.replace('Pedestrian Crossing-Human Control','Ped Cross - Human')\n",
    "    col_name_new = col_name_new.replace('Pedestrian Crossing-Physical Facilities','Ped Cross - Physical')\n",
    "    col_name_new = col_name_new.replace('Weather Conditions','Weather')\n",
    "    col_name_new = col_name_new.replace('Road Surface Conditions','Road Surface')\n",
    "    col_name_new = col_name_new.replace('Urban or Rural Area','Urban Rural')\n",
    "    col_name_new = col_name_new.replace('Did Police Officer Attend Scene of Accident','Police Officer Attend')\n",
    "    col_name_new = col_name_new.replace('Pedestrian ','Ped ')\n",
    "    col_name_new = col_name_new.replace('Bus or Coach Passenger','Bus Passenger')\n",
    "    col_name_new = col_name_new.replace('Casualty Home Area Type','Home Area Type')\n",
    "    col_name_new = col_name_new.replace('Vehicle Location-Restricted Lane','Vehicle Location')\n",
    "    col_name_new = col_name_new.replace('Vehicle Leaving Carriageway','Veh Leaving Carriageway')\n",
    "    col_name_new = col_name_new.replace('Hit Object off Carriageway','Hit Object Off Carriageway')\n",
    "    col_name_new = col_name_new.replace('Journey Purpose of Driver','Journey Purpose')\n",
    "    col_name_new = col_name_new.replace('Age Band of Casualty','Age Band')\n",
    "    col_name_new = col_name_new.replace('Age Band of Driver','Age Band')\n",
    "    col_name_new = col_name_new.replace('Propulsion Code','Vehicle Propulsion Code')\n",
    "    col_name_new = col_name_new.replace('Driver Home Area Type','Home Area Type')\n",
    "    \n",
    "    excel_data = pd.read_excel(open('../data/Road-Accident-Safety-Data-Guide.xls', 'rb'),sheet_name=col_name_new) \n",
    "    excel_data.columns = excel_data.columns.str.lower()\n",
    "    excel_data = excel_data.add_prefix(col_name+'_')\n",
    "    \n",
    "    final_df = pd.merge(df, excel_data, how = 'left', left_on=col_name, right_on=col_name+'_code')\n",
    "    final_df.drop([col_name+'_code',col_name], axis=1,inplace=True)\n",
    "    final_df.columns = final_df.columns.str.replace('_label','')\n",
    "    return final_df"
   ]
  },
  {
   "cell_type": "code",
   "execution_count": 3,
   "metadata": {},
   "outputs": [
    {
     "name": "stderr",
     "output_type": "stream",
     "text": [
      "C:\\Users\\AlexB\\Anaconda3\\lib\\site-packages\\IPython\\core\\interactiveshell.py:3249: DtypeWarning: Columns (31) have mixed types.Specify dtype option on import or set low_memory=False.\n",
      "  if (await self.run_code(code, result,  async_=asy)):\n"
     ]
    }
   ],
   "source": [
    "accidents = get_accidents()\n",
    "vehicles = get_vehicles()"
   ]
  },
  {
   "cell_type": "code",
   "execution_count": 18,
   "metadata": {},
   "outputs": [],
   "source": [
    "accidents['accident_time'] = pd.to_datetime(accidents['Date']+' '+accidents['Time'])"
   ]
  },
  {
   "cell_type": "code",
   "execution_count": 40,
   "metadata": {},
   "outputs": [
    {
     "name": "stdout",
     "output_type": "stream",
     "text": [
      "Dash is running on http://127.0.0.1:8050/\n",
      "\n",
      "Dash is running on http://127.0.0.1:8050/\n",
      "\n",
      "Dash is running on http://127.0.0.1:8050/\n",
      "\n",
      "Dash is running on http://127.0.0.1:8050/\n",
      "\n",
      "Dash is running on http://127.0.0.1:8050/\n",
      "\n",
      "Dash is running on http://127.0.0.1:8050/\n",
      "\n",
      "Dash is running on http://127.0.0.1:8050/\n",
      "\n",
      "Dash is running on http://127.0.0.1:8050/\n",
      "\n",
      "Dash is running on http://127.0.0.1:8050/\n",
      "\n",
      "Dash is running on http://127.0.0.1:8050/\n",
      "\n",
      "Dash is running on http://127.0.0.1:8050/\n",
      "\n",
      "Dash is running on http://127.0.0.1:8050/\n",
      "\n",
      "Dash is running on http://127.0.0.1:8050/\n",
      "\n",
      "Dash is running on http://127.0.0.1:8050/\n",
      "\n",
      "Dash is running on http://127.0.0.1:8050/\n",
      "\n",
      "Dash is running on http://127.0.0.1:8050/\n",
      "\n",
      "Dash is running on http://127.0.0.1:8050/\n",
      "\n",
      "Dash is running on http://127.0.0.1:8050/\n",
      "\n",
      "Dash is running on http://127.0.0.1:8050/\n",
      "\n",
      "Dash is running on http://127.0.0.1:8050/\n",
      "\n",
      "Dash is running on http://127.0.0.1:8050/\n",
      "\n",
      "Dash is running on http://127.0.0.1:8050/\n",
      "\n",
      "Dash is running on http://127.0.0.1:8050/\n",
      "\n",
      "Dash is running on http://127.0.0.1:8050/\n",
      "\n",
      "Dash is running on http://127.0.0.1:8050/\n",
      "\n",
      "Dash is running on http://127.0.0.1:8050/\n",
      "\n",
      "Dash is running on http://127.0.0.1:8050/\n",
      "\n",
      "Dash is running on http://127.0.0.1:8050/\n",
      "\n",
      " * Serving Flask app \"__main__\" (lazy loading)\n",
      " * Environment: production\n",
      "   WARNING: This is a development server. Do not use it in a production deployment.\n",
      "   Use a production WSGI server instead.\n",
      " * Debug mode: off\n"
     ]
    },
    {
     "name": "stderr",
     "output_type": "stream",
     "text": [
      " * Running on http://127.0.0.1:8050/ (Press CTRL+C to quit)\n",
      "127.0.0.1 - - [04/Jan/2022 17:59:28] \"\u001b[37mGET / HTTP/1.1\u001b[0m\" 200 -\n",
      "127.0.0.1 - - [04/Jan/2022 17:59:28] \"\u001b[37mGET /_dash-layout HTTP/1.1\u001b[0m\" 200 -\n",
      "127.0.0.1 - - [04/Jan/2022 17:59:28] \"\u001b[37mGET /_dash-dependencies HTTP/1.1\u001b[0m\" 200 -\n",
      "127.0.0.1 - - [04/Jan/2022 17:59:29] \"\u001b[37mPOST /_dash-update-component HTTP/1.1\u001b[0m\" 200 -\n"
     ]
    },
    {
     "name": "stdout",
     "output_type": "stream",
     "text": [
      "/\n"
     ]
    },
    {
     "name": "stderr",
     "output_type": "stream",
     "text": [
      "127.0.0.1 - - [04/Jan/2022 17:59:30] \"\u001b[37mPOST /_dash-update-component HTTP/1.1\u001b[0m\" 200 -\n",
      "127.0.0.1 - - [04/Jan/2022 17:59:30] \"\u001b[37mGET /_dash-component-suites/dash/dcc/async-graph.js HTTP/1.1\u001b[0m\" 200 -\n",
      "127.0.0.1 - - [04/Jan/2022 17:59:30] \"\u001b[37mGET /_dash-component-suites/dash/dcc/async-datepicker.js HTTP/1.1\u001b[0m\" 200 -\n",
      "127.0.0.1 - - [04/Jan/2022 17:59:30] \"\u001b[37mPOST /_dash-update-component HTTP/1.1\u001b[0m\" 200 -\n"
     ]
    },
    {
     "name": "stdout",
     "output_type": "stream",
     "text": [
      "/page-2\n"
     ]
    },
    {
     "name": "stderr",
     "output_type": "stream",
     "text": [
      "C:\\Users\\AlexB\\Anaconda3\\lib\\site-packages\\pandas\\core\\frame.py:4449: SettingWithCopyWarning:\n",
      "\n",
      "\n",
      "A value is trying to be set on a copy of a slice from a DataFrame\n",
      "\n",
      "See the caveats in the documentation: https://pandas.pydata.org/pandas-docs/stable/user_guide/indexing.html#returning-a-view-versus-a-copy\n",
      "\n",
      "127.0.0.1 - - [04/Jan/2022 17:59:48] \"\u001b[37mPOST /_dash-update-component HTTP/1.1\u001b[0m\" 200 -\n",
      "127.0.0.1 - - [04/Jan/2022 17:59:54] \"\u001b[37mPOST /_dash-update-component HTTP/1.1\u001b[0m\" 200 -\n",
      "127.0.0.1 - - [04/Jan/2022 18:01:06] \"\u001b[37mPOST /_dash-update-component HTTP/1.1\u001b[0m\" 200 -\n"
     ]
    },
    {
     "name": "stdout",
     "output_type": "stream",
     "text": [
      "/\n"
     ]
    },
    {
     "name": "stderr",
     "output_type": "stream",
     "text": [
      "127.0.0.1 - - [04/Jan/2022 18:01:07] \"\u001b[37mPOST /_dash-update-component HTTP/1.1\u001b[0m\" 200 -\n",
      "127.0.0.1 - - [04/Jan/2022 18:01:07] \"\u001b[37mPOST /_dash-update-component HTTP/1.1\u001b[0m\" 200 -\n"
     ]
    },
    {
     "name": "stdout",
     "output_type": "stream",
     "text": [
      "/page-2\n"
     ]
    }
   ],
   "source": [
    "accidents_ts = accidents.copy()\n",
    "accidents_ts.set_index('accident_time', drop=True, inplace=True)\n",
    "accidents_monthly = accidents_ts.resample('M').agg({'Accident_Index':'size'})\n",
    "accidents_monthly['Moving Average'] = accidents_monthly.rolling(window=5).mean()\n",
    "\n",
    "app = dash.Dash(__name__)\n",
    "\n",
    "app.layout = html.Div(children=[\n",
    "    html.H1(children='UK Accidents Dashboard'),\n",
    "\n",
    "    dcc.Location(id='url', refresh=False),\n",
    "\n",
    "    dcc.Link('Navigate to \"/\"', href='/'),\n",
    "    html.Br(),\n",
    "    dcc.Link('Navigate to \"/page-2\"', href='/page-2'),\n",
    "\n",
    "    html.Div(id='page-content')\n",
    "    \n",
    "])\n",
    "\n",
    "\n",
    "switcher = {\n",
    "        \"/page-2\": build_page_2\n",
    "    }\n",
    "\n",
    "def get_path_function(argument):\n",
    "    func = switcher.get(argument, build_default)\n",
    "    return func(argument)\n",
    "\n",
    "\n",
    "@app.callback(dash.dependencies.Output('page-content', 'children'),\n",
    "              [dash.dependencies.Input('url', 'pathname')])\n",
    "def display_page(pathname):\n",
    "    print(pathname)\n",
    "    return get_path_function(pathname)\n",
    "\n",
    "def build_default(pathname):\n",
    "    return html.Div([\n",
    "            html.H3('You are on page {}'.format(pathname))\n",
    "        ])\n",
    "\n",
    "def build_page_2(pathname):\n",
    "    return html.Div([\n",
    "        dcc.DatePickerRange(\n",
    "            id='date-picker-page2',\n",
    "            min_date_allowed=accidents_monthly.index.min(),\n",
    "            max_date_allowed=accidents_monthly.index.max(),\n",
    "            start_date=accidents_monthly.index.min(),\n",
    "            end_date=accidents_monthly.index.max()\n",
    "        ),\n",
    "        dcc.Graph(\n",
    "        id='line-graph-page2'\n",
    "    ),\n",
    "        html.H3('You are on page {}'.format(pathname))\n",
    "    ])\n",
    "\n",
    "@app.callback(dash.dependencies.Output('line-graph-page2', 'figure'),\n",
    "              [Input(component_id='date-picker-page2', component_property='start_date'),\n",
    "               Input(component_id='date-picker-page2', component_property='end_date')])\n",
    "def build_accident_line_chart(start_date, end_date):\n",
    "    accidents_monthly_cache = accidents_monthly[start_date:end_date]\n",
    "    accidents_monthly_cache.rename(columns={'Accident_Index':'Amount of Accidents'}, inplace=True)\n",
    "    fig = px.line(\n",
    "        data_frame = accidents_monthly_cache,\n",
    "        x=accidents_monthly_cache.index,\n",
    "        y=['Amount of Accidents','Moving Average']\n",
    "    )\n",
    "    \n",
    "    fig.update_layout(\n",
    "        title=\"Monthly number of accidents with 5 month moving average\",\n",
    "        xaxis_title=\"Time\",\n",
    "        yaxis_title=\"Number of Accidents\",\n",
    "        legend_title=\"Legend\"\n",
    "    )\n",
    "    return fig\n",
    "\n",
    "    \n",
    "if __name__ == '__main__':\n",
    "    app.run_server()"
   ]
  }
 ],
 "metadata": {
  "kernelspec": {
   "display_name": "Python 3",
   "language": "python",
   "name": "python3"
  },
  "language_info": {
   "codemirror_mode": {
    "name": "ipython",
    "version": 3
   },
   "file_extension": ".py",
   "mimetype": "text/x-python",
   "name": "python",
   "nbconvert_exporter": "python",
   "pygments_lexer": "ipython3",
   "version": "3.7.4"
  }
 },
 "nbformat": 4,
 "nbformat_minor": 4
}
