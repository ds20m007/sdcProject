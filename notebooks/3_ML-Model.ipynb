{
 "cells": [
  {
   "cell_type": "markdown",
   "metadata": {},
   "source": [
    "# ML-Model"
   ]
  },
  {
   "cell_type": "markdown",
   "metadata": {},
   "source": [
    "## Data Preparation"
   ]
  },
  {
   "cell_type": "code",
   "execution_count": 34,
   "metadata": {},
   "outputs": [
    {
     "name": "stderr",
     "output_type": "stream",
     "text": [
      "C:\\Users\\AlexB\\Anaconda3\\lib\\site-packages\\IPython\\core\\interactiveshell.py:3058: DtypeWarning: Columns (31) have mixed types.Specify dtype option on import or set low_memory=False.\n",
      "  interactivity=interactivity, compiler=compiler, result=result)\n"
     ]
    }
   ],
   "source": [
    "import pandas as pd\n",
    "import random\n",
    "\n",
    "random.seed(1)\n",
    "p = 0.1\n",
    "\n",
    "\n",
    "accidents = pd.read_csv('../data/Accidents0514.csv', header=0, skiprows=lambda i: i>0 and random.random() > p)\n",
    "vehicles = pd.read_csv('../data/Vehicles0514.csv')\n",
    "\n",
    "def read_and_join_description(df, col_name):\n",
    "    col_name_new = col_name.replace('_',' ')\n",
    "    col_name_new = col_name_new.replace('?','')\n",
    "    \n",
    "    col_name_new = col_name_new.replace('Pedestrian Crossing-Human Control','Ped Cross - Human')\n",
    "    col_name_new = col_name_new.replace('Pedestrian Crossing-Physical Facilities','Ped Cross - Physical')\n",
    "    col_name_new = col_name_new.replace('Weather Conditions','Weather')\n",
    "    col_name_new = col_name_new.replace('Road Surface Conditions','Road Surface')\n",
    "    col_name_new = col_name_new.replace('Urban or Rural Area','Urban Rural')\n",
    "    col_name_new = col_name_new.replace('Did Police Officer Attend Scene of Accident','Police Officer Attend')\n",
    "    col_name_new = col_name_new.replace('Pedestrian ','Ped ')\n",
    "    col_name_new = col_name_new.replace('Bus or Coach Passenger','Bus Passenger')\n",
    "    col_name_new = col_name_new.replace('Casualty Home Area Type','Home Area Type')\n",
    "    col_name_new = col_name_new.replace('Vehicle Location-Restricted Lane','Vehicle Location')\n",
    "    col_name_new = col_name_new.replace('Vehicle Leaving Carriageway','Veh Leaving Carriageway')\n",
    "    col_name_new = col_name_new.replace('Hit Object off Carriageway','Hit Object Off Carriageway')\n",
    "    col_name_new = col_name_new.replace('Journey Purpose of Driver','Journey Purpose')\n",
    "    col_name_new = col_name_new.replace('Age Band of Casualty','Age Band')\n",
    "    col_name_new = col_name_new.replace('Age Band of Driver','Age Band')\n",
    "    col_name_new = col_name_new.replace('Propulsion Code','Vehicle Propulsion Code')\n",
    "    col_name_new = col_name_new.replace('Driver Home Area Type','Home Area Type')\n",
    "    \n",
    "    excel_data = pd.read_excel(open('../data/Road-Accident-Safety-Data-Guide.xls', 'rb'),sheet_name=col_name_new) \n",
    "    excel_data.columns = excel_data.columns.str.lower()\n",
    "    excel_data = excel_data.add_prefix(col_name+'_')\n",
    "    \n",
    "    final_df = pd.merge(df, excel_data, how = 'left', left_on=col_name, right_on=col_name+'_code')\n",
    "    final_df.drop([col_name+'_code',col_name], axis=1,inplace=True)\n",
    "    final_df.columns = final_df.columns.str.replace('_label','')\n",
    "    return final_df\n",
    "\n",
    "accidents_full = accidents.copy()\n",
    "\n",
    "for name in ['Police_Force',\n",
    " 'Accident_Severity',\n",
    " 'Day_of_Week',\n",
    " 'Local_Authority_(District)',\n",
    " 'Local_Authority_(Highway)',\n",
    " '1st_Road_Class',\n",
    " 'Road_Type',\n",
    " 'Junction_Detail',\n",
    " 'Junction_Control',\n",
    " '2nd_Road_Class',\n",
    " 'Pedestrian_Crossing-Human_Control',\n",
    " 'Pedestrian_Crossing-Physical_Facilities',\n",
    " 'Light_Conditions',\n",
    " 'Weather_Conditions',\n",
    " 'Road_Surface_Conditions',\n",
    " 'Special_Conditions_at_Site',\n",
    " 'Carriageway_Hazards',\n",
    " 'Urban_or_Rural_Area',\n",
    " 'Did_Police_Officer_Attend_Scene_of_Accident']:\n",
    "    accidents_full = read_and_join_description(accidents_full, name)\n",
    "    \n",
    "vehicles_full = vehicles.copy()\n",
    "\n",
    "for name in ['Vehicle_Type',\n",
    " 'Towing_and_Articulation',\n",
    " 'Vehicle_Manoeuvre',\n",
    " 'Vehicle_Location-Restricted_Lane',\n",
    " 'Junction_Location',\n",
    " 'Skidding_and_Overturning',\n",
    " 'Hit_Object_in_Carriageway',\n",
    " 'Vehicle_Leaving_Carriageway',\n",
    " 'Hit_Object_off_Carriageway',\n",
    " '1st_Point_of_Impact',\n",
    " 'Was_Vehicle_Left_Hand_Drive?',\n",
    " 'Journey_Purpose_of_Driver',\n",
    " 'Sex_of_Driver',\n",
    " 'Age_Band_of_Driver',\n",
    " 'Propulsion_Code']:\n",
    "    vehicles_full = read_and_join_description(vehicles_full, name)"
   ]
  },
  {
   "cell_type": "markdown",
   "metadata": {},
   "source": [
    "Used for ML Model: \n",
    "\n",
    "Accidents: Day_of_Week, 1st_Road_Class, Weather_Conditions, Road_Surface_Conditions, Special_Conditions_at_Site, Urban_or_Rural_Area, Time of year (Season), Time of day, Longitude, Latitude\n",
    "\n",
    "Vehicles: Vehicle Types in Accident\n",
    "\n",
    "To predict: Accident_Severity\n"
   ]
  },
  {
   "cell_type": "markdown",
   "metadata": {},
   "source": [
    "### Vehicles\n",
    "\n",
    "Since we only use the Type of vehicles included in the accident we need something similar to a one-hot-encoding, since want to reduce multiple vehicles onto one line without including any order or similar.\n",
    "\n",
    "For simplicity we also reduce the categories a bit."
   ]
  },
  {
   "cell_type": "code",
   "execution_count": 35,
   "metadata": {},
   "outputs": [],
   "source": [
    "vehicles_full[\"Vehicle_Type\"].replace({\n",
    "    \"Motorcycle 125cc and under\": \"Motorcycle 125cc and under\", \n",
    "    \"Motorcycle 50cc and under\": \"Motorcycle 125cc and under\",\n",
    "    \"Motorcycle over 125cc and up to 500cc\":\"Motorcycle over 125cc\",\n",
    "    \"Motorcycle over 500cc\": \"Motorcycle over 125cc\",\n",
    "    \"Taxi/Private hire car\": \"Car\"\n",
    "}, inplace=True)"
   ]
  },
  {
   "cell_type": "code",
   "execution_count": 36,
   "metadata": {},
   "outputs": [],
   "source": [
    "df = pd.get_dummies(vehicles_full[\"Vehicle_Type\"])\n",
    "vehicles_oh = pd.concat([df, vehicles_full[\"Accident_Index\"]], axis=1) \n",
    "vehicles_oh = vehicles_oh.groupby(\"Accident_Index\",as_index=False).sum()\n",
    "vehicles_oh.set_index(\"Accident_Index\", inplace=True)\n",
    "vehicles_oh.drop(\"Data missing or out of range\", axis=1, inplace=True) #drop missing data column, will be represented as all 0"
   ]
  },
  {
   "cell_type": "code",
   "execution_count": 37,
   "metadata": {
    "scrolled": false
   },
   "outputs": [
    {
     "data": {
      "text/html": [
       "<div>\n",
       "<style scoped>\n",
       "    .dataframe tbody tr th:only-of-type {\n",
       "        vertical-align: middle;\n",
       "    }\n",
       "\n",
       "    .dataframe tbody tr th {\n",
       "        vertical-align: top;\n",
       "    }\n",
       "\n",
       "    .dataframe thead th {\n",
       "        text-align: right;\n",
       "    }\n",
       "</style>\n",
       "<table border=\"1\" class=\"dataframe\">\n",
       "  <thead>\n",
       "    <tr style=\"text-align: right;\">\n",
       "      <th></th>\n",
       "      <th>Agricultural vehicle</th>\n",
       "      <th>Bus or coach (17 or more pass seats)</th>\n",
       "      <th>Car</th>\n",
       "      <th>Electric motorcycle</th>\n",
       "      <th>Goods 7.5 tonnes mgw and over</th>\n",
       "      <th>Goods over 3.5t. and under 7.5t</th>\n",
       "      <th>Goods vehicle - unknown weight</th>\n",
       "      <th>Minibus (8 - 16 passenger seats)</th>\n",
       "      <th>Mobility scooter</th>\n",
       "      <th>Motorcycle - unknown cc</th>\n",
       "      <th>Motorcycle 125cc and under</th>\n",
       "      <th>Motorcycle over 125cc</th>\n",
       "      <th>Other vehicle</th>\n",
       "      <th>Pedal cycle</th>\n",
       "      <th>Ridden horse</th>\n",
       "      <th>Tram</th>\n",
       "      <th>Van / Goods 3.5 tonnes mgw or under</th>\n",
       "    </tr>\n",
       "    <tr>\n",
       "      <th>Accident_Index</th>\n",
       "      <th></th>\n",
       "      <th></th>\n",
       "      <th></th>\n",
       "      <th></th>\n",
       "      <th></th>\n",
       "      <th></th>\n",
       "      <th></th>\n",
       "      <th></th>\n",
       "      <th></th>\n",
       "      <th></th>\n",
       "      <th></th>\n",
       "      <th></th>\n",
       "      <th></th>\n",
       "      <th></th>\n",
       "      <th></th>\n",
       "      <th></th>\n",
       "      <th></th>\n",
       "    </tr>\n",
       "  </thead>\n",
       "  <tbody>\n",
       "    <tr>\n",
       "      <th>200501BS00001</th>\n",
       "      <td>0</td>\n",
       "      <td>0</td>\n",
       "      <td>1</td>\n",
       "      <td>0</td>\n",
       "      <td>0</td>\n",
       "      <td>0</td>\n",
       "      <td>0</td>\n",
       "      <td>0</td>\n",
       "      <td>0</td>\n",
       "      <td>0</td>\n",
       "      <td>0</td>\n",
       "      <td>0</td>\n",
       "      <td>0</td>\n",
       "      <td>0</td>\n",
       "      <td>0</td>\n",
       "      <td>0</td>\n",
       "      <td>0</td>\n",
       "    </tr>\n",
       "    <tr>\n",
       "      <th>200501BS00002</th>\n",
       "      <td>0</td>\n",
       "      <td>1</td>\n",
       "      <td>0</td>\n",
       "      <td>0</td>\n",
       "      <td>0</td>\n",
       "      <td>0</td>\n",
       "      <td>0</td>\n",
       "      <td>0</td>\n",
       "      <td>0</td>\n",
       "      <td>0</td>\n",
       "      <td>0</td>\n",
       "      <td>0</td>\n",
       "      <td>0</td>\n",
       "      <td>0</td>\n",
       "      <td>0</td>\n",
       "      <td>0</td>\n",
       "      <td>0</td>\n",
       "    </tr>\n",
       "    <tr>\n",
       "      <th>200501BS00003</th>\n",
       "      <td>0</td>\n",
       "      <td>1</td>\n",
       "      <td>1</td>\n",
       "      <td>0</td>\n",
       "      <td>0</td>\n",
       "      <td>0</td>\n",
       "      <td>0</td>\n",
       "      <td>0</td>\n",
       "      <td>0</td>\n",
       "      <td>0</td>\n",
       "      <td>0</td>\n",
       "      <td>0</td>\n",
       "      <td>0</td>\n",
       "      <td>0</td>\n",
       "      <td>0</td>\n",
       "      <td>0</td>\n",
       "      <td>0</td>\n",
       "    </tr>\n",
       "    <tr>\n",
       "      <th>200501BS00004</th>\n",
       "      <td>0</td>\n",
       "      <td>0</td>\n",
       "      <td>1</td>\n",
       "      <td>0</td>\n",
       "      <td>0</td>\n",
       "      <td>0</td>\n",
       "      <td>0</td>\n",
       "      <td>0</td>\n",
       "      <td>0</td>\n",
       "      <td>0</td>\n",
       "      <td>0</td>\n",
       "      <td>0</td>\n",
       "      <td>0</td>\n",
       "      <td>0</td>\n",
       "      <td>0</td>\n",
       "      <td>0</td>\n",
       "      <td>0</td>\n",
       "    </tr>\n",
       "    <tr>\n",
       "      <th>200501BS00005</th>\n",
       "      <td>0</td>\n",
       "      <td>0</td>\n",
       "      <td>0</td>\n",
       "      <td>0</td>\n",
       "      <td>0</td>\n",
       "      <td>0</td>\n",
       "      <td>0</td>\n",
       "      <td>0</td>\n",
       "      <td>0</td>\n",
       "      <td>0</td>\n",
       "      <td>1</td>\n",
       "      <td>0</td>\n",
       "      <td>0</td>\n",
       "      <td>0</td>\n",
       "      <td>0</td>\n",
       "      <td>0</td>\n",
       "      <td>0</td>\n",
       "    </tr>\n",
       "  </tbody>\n",
       "</table>\n",
       "</div>"
      ],
      "text/plain": [
       "                Agricultural vehicle  Bus or coach (17 or more pass seats)  \\\n",
       "Accident_Index                                                               \n",
       "200501BS00001                      0                                     0   \n",
       "200501BS00002                      0                                     1   \n",
       "200501BS00003                      0                                     1   \n",
       "200501BS00004                      0                                     0   \n",
       "200501BS00005                      0                                     0   \n",
       "\n",
       "                Car  Electric motorcycle  Goods 7.5 tonnes mgw and over  \\\n",
       "Accident_Index                                                            \n",
       "200501BS00001     1                    0                              0   \n",
       "200501BS00002     0                    0                              0   \n",
       "200501BS00003     1                    0                              0   \n",
       "200501BS00004     1                    0                              0   \n",
       "200501BS00005     0                    0                              0   \n",
       "\n",
       "                Goods over 3.5t. and under 7.5t  \\\n",
       "Accident_Index                                    \n",
       "200501BS00001                                 0   \n",
       "200501BS00002                                 0   \n",
       "200501BS00003                                 0   \n",
       "200501BS00004                                 0   \n",
       "200501BS00005                                 0   \n",
       "\n",
       "                Goods vehicle - unknown weight  \\\n",
       "Accident_Index                                   \n",
       "200501BS00001                                0   \n",
       "200501BS00002                                0   \n",
       "200501BS00003                                0   \n",
       "200501BS00004                                0   \n",
       "200501BS00005                                0   \n",
       "\n",
       "                Minibus (8 - 16 passenger seats)  Mobility scooter  \\\n",
       "Accident_Index                                                       \n",
       "200501BS00001                                  0                 0   \n",
       "200501BS00002                                  0                 0   \n",
       "200501BS00003                                  0                 0   \n",
       "200501BS00004                                  0                 0   \n",
       "200501BS00005                                  0                 0   \n",
       "\n",
       "                Motorcycle - unknown cc  Motorcycle 125cc and under  \\\n",
       "Accident_Index                                                        \n",
       "200501BS00001                         0                           0   \n",
       "200501BS00002                         0                           0   \n",
       "200501BS00003                         0                           0   \n",
       "200501BS00004                         0                           0   \n",
       "200501BS00005                         0                           1   \n",
       "\n",
       "                Motorcycle over 125cc  Other vehicle  Pedal cycle  \\\n",
       "Accident_Index                                                      \n",
       "200501BS00001                       0              0            0   \n",
       "200501BS00002                       0              0            0   \n",
       "200501BS00003                       0              0            0   \n",
       "200501BS00004                       0              0            0   \n",
       "200501BS00005                       0              0            0   \n",
       "\n",
       "                Ridden horse  Tram  Van / Goods 3.5 tonnes mgw or under  \n",
       "Accident_Index                                                           \n",
       "200501BS00001              0     0                                    0  \n",
       "200501BS00002              0     0                                    0  \n",
       "200501BS00003              0     0                                    0  \n",
       "200501BS00004              0     0                                    0  \n",
       "200501BS00005              0     0                                    0  "
      ]
     },
     "execution_count": 37,
     "metadata": {},
     "output_type": "execute_result"
    }
   ],
   "source": [
    "vehicles_oh.head()"
   ]
  },
  {
   "cell_type": "markdown",
   "metadata": {},
   "source": [
    "### Accidents"
   ]
  },
  {
   "cell_type": "code",
   "execution_count": 38,
   "metadata": {},
   "outputs": [],
   "source": [
    "accidents_full.set_index(\"Accident_Index\", inplace=True)\n",
    "accidents_prep = accidents_full.copy()[[\"Accident_Severity\",\"Day_of_Week\", \"1st_Road_Class\", \"Weather_Conditions\", \"Road_Surface_Conditions\", \"Special_Conditions_at_Site\", \"Urban_or_Rural_Area\", \"Date\", \"Time\", \"Longitude\", \"Latitude\"]]"
   ]
  },
  {
   "cell_type": "markdown",
   "metadata": {},
   "source": [
    "Get Day time from hour"
   ]
  },
  {
   "cell_type": "code",
   "execution_count": 39,
   "metadata": {},
   "outputs": [],
   "source": [
    "def getDayTime(hour):\n",
    "    if hour >= 5 and hour < 11:\n",
    "        return \"morning (5-11)\"\n",
    "    elif hour >= 11 and hour < 14:\n",
    "        return \"midday (11-14)\"\n",
    "    elif hour >= 14 and hour < 18:\n",
    "        return \"afternoon (16-18)\"\n",
    "    elif hour >= 17 and hour < 23:\n",
    "        return \"evening (18-23)\"\n",
    "    else:\n",
    "        return \"night (23-5)\"\n",
    "\n",
    "accidents_prep['hour'] = accidents_prep['Time'].str[0:2]\n",
    "accidents_prep['hour'] = pd.to_numeric(accidents_prep['hour'])\n",
    "accidents_prep = accidents_prep.dropna(subset=['hour'])\n",
    "accidents_prep['hour'] = accidents_prep['hour'].astype('int')\n",
    "\n",
    "accidents_prep['Daytime'] = accidents_prep['hour'].apply(getDayTime)\n",
    "accidents_prep.drop([\"hour\",\"Time\"], axis=1, inplace=True)"
   ]
  },
  {
   "cell_type": "markdown",
   "metadata": {},
   "source": [
    "Get Season from Date"
   ]
  },
  {
   "cell_type": "code",
   "execution_count": 40,
   "metadata": {},
   "outputs": [],
   "source": [
    "accidents_prep['accident_date'] = pd.to_datetime(accidents_prep['Date'])\n",
    "accidents_prep['Season']=accidents_prep['accident_date'].dt.month%12 // 3 + 1\n",
    "accidents_prep.drop(['Date','accident_date'], axis=1, inplace=True)\n",
    "\n",
    "accidents_prep[\"Season\"].replace({\n",
    "    1: \"Spring\", \n",
    "    2: \"Summer\",\n",
    "    3: \"Autumn\",\n",
    "    4: \"Winter\"\n",
    "}, inplace=True)"
   ]
  },
  {
   "cell_type": "code",
   "execution_count": 41,
   "metadata": {},
   "outputs": [
    {
     "data": {
      "text/html": [
       "<div>\n",
       "<style scoped>\n",
       "    .dataframe tbody tr th:only-of-type {\n",
       "        vertical-align: middle;\n",
       "    }\n",
       "\n",
       "    .dataframe tbody tr th {\n",
       "        vertical-align: top;\n",
       "    }\n",
       "\n",
       "    .dataframe thead th {\n",
       "        text-align: right;\n",
       "    }\n",
       "</style>\n",
       "<table border=\"1\" class=\"dataframe\">\n",
       "  <thead>\n",
       "    <tr style=\"text-align: right;\">\n",
       "      <th></th>\n",
       "      <th>Accident_Severity</th>\n",
       "      <th>Day_of_Week</th>\n",
       "      <th>1st_Road_Class</th>\n",
       "      <th>Weather_Conditions</th>\n",
       "      <th>Road_Surface_Conditions</th>\n",
       "      <th>Special_Conditions_at_Site</th>\n",
       "      <th>Urban_or_Rural_Area</th>\n",
       "      <th>Longitude</th>\n",
       "      <th>Latitude</th>\n",
       "      <th>Daytime</th>\n",
       "      <th>Season</th>\n",
       "    </tr>\n",
       "    <tr>\n",
       "      <th>Accident_Index</th>\n",
       "      <th></th>\n",
       "      <th></th>\n",
       "      <th></th>\n",
       "      <th></th>\n",
       "      <th></th>\n",
       "      <th></th>\n",
       "      <th></th>\n",
       "      <th></th>\n",
       "      <th></th>\n",
       "      <th></th>\n",
       "      <th></th>\n",
       "    </tr>\n",
       "  </thead>\n",
       "  <tbody>\n",
       "    <tr>\n",
       "      <th>200501BS00010</th>\n",
       "      <td>Slight</td>\n",
       "      <td>Saturday</td>\n",
       "      <td>A</td>\n",
       "      <td>Fine no high winds</td>\n",
       "      <td>Dry</td>\n",
       "      <td>None</td>\n",
       "      <td>Urban</td>\n",
       "      <td>-0.167342</td>\n",
       "      <td>51.483420</td>\n",
       "      <td>evening (18-23)</td>\n",
       "      <td>Spring</td>\n",
       "    </tr>\n",
       "    <tr>\n",
       "      <th>200501BS00011</th>\n",
       "      <td>Slight</td>\n",
       "      <td>Saturday</td>\n",
       "      <td>B</td>\n",
       "      <td>Fine no high winds</td>\n",
       "      <td>Dry</td>\n",
       "      <td>None</td>\n",
       "      <td>Urban</td>\n",
       "      <td>-0.206531</td>\n",
       "      <td>51.512443</td>\n",
       "      <td>afternoon (16-18)</td>\n",
       "      <td>Spring</td>\n",
       "    </tr>\n",
       "    <tr>\n",
       "      <th>200501BS00016</th>\n",
       "      <td>Slight</td>\n",
       "      <td>Tuesday</td>\n",
       "      <td>A</td>\n",
       "      <td>Raining no high winds</td>\n",
       "      <td>Wet or damp</td>\n",
       "      <td>None</td>\n",
       "      <td>Urban</td>\n",
       "      <td>-0.157753</td>\n",
       "      <td>51.492622</td>\n",
       "      <td>morning (5-11)</td>\n",
       "      <td>Spring</td>\n",
       "    </tr>\n",
       "    <tr>\n",
       "      <th>200501BS00022</th>\n",
       "      <td>Serious</td>\n",
       "      <td>Saturday</td>\n",
       "      <td>A</td>\n",
       "      <td>Fine no high winds</td>\n",
       "      <td>Dry</td>\n",
       "      <td>None</td>\n",
       "      <td>Urban</td>\n",
       "      <td>-0.174925</td>\n",
       "      <td>51.495498</td>\n",
       "      <td>night (23-5)</td>\n",
       "      <td>Autumn</td>\n",
       "    </tr>\n",
       "    <tr>\n",
       "      <th>200501BS00023</th>\n",
       "      <td>Slight</td>\n",
       "      <td>Monday</td>\n",
       "      <td>Unclassified</td>\n",
       "      <td>Fine no high winds</td>\n",
       "      <td>Dry</td>\n",
       "      <td>None</td>\n",
       "      <td>Urban</td>\n",
       "      <td>-0.187270</td>\n",
       "      <td>51.492992</td>\n",
       "      <td>evening (18-23)</td>\n",
       "      <td>Spring</td>\n",
       "    </tr>\n",
       "  </tbody>\n",
       "</table>\n",
       "</div>"
      ],
      "text/plain": [
       "               Accident_Severity Day_of_Week 1st_Road_Class  \\\n",
       "Accident_Index                                                \n",
       "200501BS00010             Slight    Saturday              A   \n",
       "200501BS00011             Slight    Saturday              B   \n",
       "200501BS00016             Slight     Tuesday              A   \n",
       "200501BS00022            Serious    Saturday              A   \n",
       "200501BS00023             Slight      Monday   Unclassified   \n",
       "\n",
       "                   Weather_Conditions Road_Surface_Conditions  \\\n",
       "Accident_Index                                                  \n",
       "200501BS00010      Fine no high winds                     Dry   \n",
       "200501BS00011      Fine no high winds                     Dry   \n",
       "200501BS00016   Raining no high winds             Wet or damp   \n",
       "200501BS00022      Fine no high winds                     Dry   \n",
       "200501BS00023      Fine no high winds                     Dry   \n",
       "\n",
       "               Special_Conditions_at_Site Urban_or_Rural_Area  Longitude  \\\n",
       "Accident_Index                                                             \n",
       "200501BS00010                        None               Urban  -0.167342   \n",
       "200501BS00011                        None               Urban  -0.206531   \n",
       "200501BS00016                        None               Urban  -0.157753   \n",
       "200501BS00022                        None               Urban  -0.174925   \n",
       "200501BS00023                        None               Urban  -0.187270   \n",
       "\n",
       "                 Latitude            Daytime  Season  \n",
       "Accident_Index                                        \n",
       "200501BS00010   51.483420    evening (18-23)  Spring  \n",
       "200501BS00011   51.512443  afternoon (16-18)  Spring  \n",
       "200501BS00016   51.492622     morning (5-11)  Spring  \n",
       "200501BS00022   51.495498       night (23-5)  Autumn  \n",
       "200501BS00023   51.492992    evening (18-23)  Spring  "
      ]
     },
     "execution_count": 41,
     "metadata": {},
     "output_type": "execute_result"
    }
   ],
   "source": [
    "accidents_prep.head()"
   ]
  },
  {
   "cell_type": "markdown",
   "metadata": {},
   "source": [
    "### Join"
   ]
  },
  {
   "cell_type": "code",
   "execution_count": 46,
   "metadata": {},
   "outputs": [],
   "source": [
    "df = accidents_prep.join(vehicles_oh)"
   ]
  },
  {
   "cell_type": "code",
   "execution_count": 47,
   "metadata": {},
   "outputs": [
    {
     "data": {
      "text/html": [
       "<div>\n",
       "<style scoped>\n",
       "    .dataframe tbody tr th:only-of-type {\n",
       "        vertical-align: middle;\n",
       "    }\n",
       "\n",
       "    .dataframe tbody tr th {\n",
       "        vertical-align: top;\n",
       "    }\n",
       "\n",
       "    .dataframe thead th {\n",
       "        text-align: right;\n",
       "    }\n",
       "</style>\n",
       "<table border=\"1\" class=\"dataframe\">\n",
       "  <thead>\n",
       "    <tr style=\"text-align: right;\">\n",
       "      <th></th>\n",
       "      <th>Accident_Severity</th>\n",
       "      <th>Day_of_Week</th>\n",
       "      <th>1st_Road_Class</th>\n",
       "      <th>Weather_Conditions</th>\n",
       "      <th>Road_Surface_Conditions</th>\n",
       "      <th>Special_Conditions_at_Site</th>\n",
       "      <th>Urban_or_Rural_Area</th>\n",
       "      <th>Longitude</th>\n",
       "      <th>Latitude</th>\n",
       "      <th>Daytime</th>\n",
       "      <th>...</th>\n",
       "      <th>Minibus (8 - 16 passenger seats)</th>\n",
       "      <th>Mobility scooter</th>\n",
       "      <th>Motorcycle - unknown cc</th>\n",
       "      <th>Motorcycle 125cc and under</th>\n",
       "      <th>Motorcycle over 125cc</th>\n",
       "      <th>Other vehicle</th>\n",
       "      <th>Pedal cycle</th>\n",
       "      <th>Ridden horse</th>\n",
       "      <th>Tram</th>\n",
       "      <th>Van / Goods 3.5 tonnes mgw or under</th>\n",
       "    </tr>\n",
       "    <tr>\n",
       "      <th>Accident_Index</th>\n",
       "      <th></th>\n",
       "      <th></th>\n",
       "      <th></th>\n",
       "      <th></th>\n",
       "      <th></th>\n",
       "      <th></th>\n",
       "      <th></th>\n",
       "      <th></th>\n",
       "      <th></th>\n",
       "      <th></th>\n",
       "      <th></th>\n",
       "      <th></th>\n",
       "      <th></th>\n",
       "      <th></th>\n",
       "      <th></th>\n",
       "      <th></th>\n",
       "      <th></th>\n",
       "      <th></th>\n",
       "      <th></th>\n",
       "      <th></th>\n",
       "      <th></th>\n",
       "    </tr>\n",
       "  </thead>\n",
       "  <tbody>\n",
       "    <tr>\n",
       "      <th>200501BS00010</th>\n",
       "      <td>Slight</td>\n",
       "      <td>Saturday</td>\n",
       "      <td>A</td>\n",
       "      <td>Fine no high winds</td>\n",
       "      <td>Dry</td>\n",
       "      <td>None</td>\n",
       "      <td>Urban</td>\n",
       "      <td>-0.167342</td>\n",
       "      <td>51.483420</td>\n",
       "      <td>evening (18-23)</td>\n",
       "      <td>...</td>\n",
       "      <td>0</td>\n",
       "      <td>0</td>\n",
       "      <td>0</td>\n",
       "      <td>0</td>\n",
       "      <td>0</td>\n",
       "      <td>0</td>\n",
       "      <td>0</td>\n",
       "      <td>0</td>\n",
       "      <td>0</td>\n",
       "      <td>0</td>\n",
       "    </tr>\n",
       "    <tr>\n",
       "      <th>200501BS00011</th>\n",
       "      <td>Slight</td>\n",
       "      <td>Saturday</td>\n",
       "      <td>B</td>\n",
       "      <td>Fine no high winds</td>\n",
       "      <td>Dry</td>\n",
       "      <td>None</td>\n",
       "      <td>Urban</td>\n",
       "      <td>-0.206531</td>\n",
       "      <td>51.512443</td>\n",
       "      <td>afternoon (16-18)</td>\n",
       "      <td>...</td>\n",
       "      <td>0</td>\n",
       "      <td>0</td>\n",
       "      <td>0</td>\n",
       "      <td>0</td>\n",
       "      <td>0</td>\n",
       "      <td>1</td>\n",
       "      <td>0</td>\n",
       "      <td>0</td>\n",
       "      <td>0</td>\n",
       "      <td>0</td>\n",
       "    </tr>\n",
       "    <tr>\n",
       "      <th>200501BS00016</th>\n",
       "      <td>Slight</td>\n",
       "      <td>Tuesday</td>\n",
       "      <td>A</td>\n",
       "      <td>Raining no high winds</td>\n",
       "      <td>Wet or damp</td>\n",
       "      <td>None</td>\n",
       "      <td>Urban</td>\n",
       "      <td>-0.157753</td>\n",
       "      <td>51.492622</td>\n",
       "      <td>morning (5-11)</td>\n",
       "      <td>...</td>\n",
       "      <td>0</td>\n",
       "      <td>0</td>\n",
       "      <td>0</td>\n",
       "      <td>0</td>\n",
       "      <td>0</td>\n",
       "      <td>0</td>\n",
       "      <td>0</td>\n",
       "      <td>0</td>\n",
       "      <td>0</td>\n",
       "      <td>0</td>\n",
       "    </tr>\n",
       "    <tr>\n",
       "      <th>200501BS00022</th>\n",
       "      <td>Serious</td>\n",
       "      <td>Saturday</td>\n",
       "      <td>A</td>\n",
       "      <td>Fine no high winds</td>\n",
       "      <td>Dry</td>\n",
       "      <td>None</td>\n",
       "      <td>Urban</td>\n",
       "      <td>-0.174925</td>\n",
       "      <td>51.495498</td>\n",
       "      <td>night (23-5)</td>\n",
       "      <td>...</td>\n",
       "      <td>0</td>\n",
       "      <td>0</td>\n",
       "      <td>0</td>\n",
       "      <td>0</td>\n",
       "      <td>0</td>\n",
       "      <td>0</td>\n",
       "      <td>0</td>\n",
       "      <td>0</td>\n",
       "      <td>0</td>\n",
       "      <td>0</td>\n",
       "    </tr>\n",
       "    <tr>\n",
       "      <th>200501BS00023</th>\n",
       "      <td>Slight</td>\n",
       "      <td>Monday</td>\n",
       "      <td>Unclassified</td>\n",
       "      <td>Fine no high winds</td>\n",
       "      <td>Dry</td>\n",
       "      <td>None</td>\n",
       "      <td>Urban</td>\n",
       "      <td>-0.187270</td>\n",
       "      <td>51.492992</td>\n",
       "      <td>evening (18-23)</td>\n",
       "      <td>...</td>\n",
       "      <td>0</td>\n",
       "      <td>0</td>\n",
       "      <td>0</td>\n",
       "      <td>1</td>\n",
       "      <td>0</td>\n",
       "      <td>0</td>\n",
       "      <td>0</td>\n",
       "      <td>0</td>\n",
       "      <td>0</td>\n",
       "      <td>0</td>\n",
       "    </tr>\n",
       "  </tbody>\n",
       "</table>\n",
       "<p>5 rows × 28 columns</p>\n",
       "</div>"
      ],
      "text/plain": [
       "               Accident_Severity Day_of_Week 1st_Road_Class  \\\n",
       "Accident_Index                                                \n",
       "200501BS00010             Slight    Saturday              A   \n",
       "200501BS00011             Slight    Saturday              B   \n",
       "200501BS00016             Slight     Tuesday              A   \n",
       "200501BS00022            Serious    Saturday              A   \n",
       "200501BS00023             Slight      Monday   Unclassified   \n",
       "\n",
       "                   Weather_Conditions Road_Surface_Conditions  \\\n",
       "Accident_Index                                                  \n",
       "200501BS00010      Fine no high winds                     Dry   \n",
       "200501BS00011      Fine no high winds                     Dry   \n",
       "200501BS00016   Raining no high winds             Wet or damp   \n",
       "200501BS00022      Fine no high winds                     Dry   \n",
       "200501BS00023      Fine no high winds                     Dry   \n",
       "\n",
       "               Special_Conditions_at_Site Urban_or_Rural_Area  Longitude  \\\n",
       "Accident_Index                                                             \n",
       "200501BS00010                        None               Urban  -0.167342   \n",
       "200501BS00011                        None               Urban  -0.206531   \n",
       "200501BS00016                        None               Urban  -0.157753   \n",
       "200501BS00022                        None               Urban  -0.174925   \n",
       "200501BS00023                        None               Urban  -0.187270   \n",
       "\n",
       "                 Latitude            Daytime  ...  \\\n",
       "Accident_Index                                ...   \n",
       "200501BS00010   51.483420    evening (18-23)  ...   \n",
       "200501BS00011   51.512443  afternoon (16-18)  ...   \n",
       "200501BS00016   51.492622     morning (5-11)  ...   \n",
       "200501BS00022   51.495498       night (23-5)  ...   \n",
       "200501BS00023   51.492992    evening (18-23)  ...   \n",
       "\n",
       "               Minibus (8 - 16 passenger seats)  Mobility scooter  \\\n",
       "Accident_Index                                                      \n",
       "200501BS00010                                 0                 0   \n",
       "200501BS00011                                 0                 0   \n",
       "200501BS00016                                 0                 0   \n",
       "200501BS00022                                 0                 0   \n",
       "200501BS00023                                 0                 0   \n",
       "\n",
       "                Motorcycle - unknown cc  Motorcycle 125cc and under  \\\n",
       "Accident_Index                                                        \n",
       "200501BS00010                         0                           0   \n",
       "200501BS00011                         0                           0   \n",
       "200501BS00016                         0                           0   \n",
       "200501BS00022                         0                           0   \n",
       "200501BS00023                         0                           1   \n",
       "\n",
       "                Motorcycle over 125cc  Other vehicle  Pedal cycle  \\\n",
       "Accident_Index                                                      \n",
       "200501BS00010                       0              0            0   \n",
       "200501BS00011                       0              1            0   \n",
       "200501BS00016                       0              0            0   \n",
       "200501BS00022                       0              0            0   \n",
       "200501BS00023                       0              0            0   \n",
       "\n",
       "                Ridden horse  Tram  Van / Goods 3.5 tonnes mgw or under  \n",
       "Accident_Index                                                           \n",
       "200501BS00010              0     0                                    0  \n",
       "200501BS00011              0     0                                    0  \n",
       "200501BS00016              0     0                                    0  \n",
       "200501BS00022              0     0                                    0  \n",
       "200501BS00023              0     0                                    0  \n",
       "\n",
       "[5 rows x 28 columns]"
      ]
     },
     "execution_count": 47,
     "metadata": {},
     "output_type": "execute_result"
    }
   ],
   "source": [
    "df.head()"
   ]
  },
  {
   "cell_type": "markdown",
   "metadata": {},
   "source": [
    "Drop 31 rows with NA locations"
   ]
  },
  {
   "cell_type": "code",
   "execution_count": 48,
   "metadata": {},
   "outputs": [],
   "source": [
    "df = df.dropna()"
   ]
  },
  {
   "cell_type": "markdown",
   "metadata": {},
   "source": [
    "## Training of Modell\n",
    "\n",
    "Due to the setup of the data we decided to only compare randomForest and naivBayes classifiers. With this size of Data a neural network might be promising too but is this can be done at a later point."
   ]
  },
  {
   "cell_type": "code",
   "execution_count": 68,
   "metadata": {},
   "outputs": [],
   "source": [
    "# get necessary libraries\n",
    "from sklearn.model_selection import train_test_split\n",
    "from sklearn.metrics import confusion_matrix\n",
    "from sklearn.ensemble import RandomForestClassifier\n",
    "from sklearn.model_selection import GridSearchCV\n",
    "from sklearn import preprocessing\n",
    "from sklearn.metrics import accuracy_score\n",
    "from sklearn.neighbors import KNeighborsClassifier\n",
    "\n",
    "from matplotlib import pyplot as plt\n",
    "import numpy as np"
   ]
  },
  {
   "cell_type": "markdown",
   "metadata": {},
   "source": [
    "First split into train and test, scaling not necessary since the data does not need it (latitude and longitude are on the same scale, the dummy vehicles too)"
   ]
  },
  {
   "cell_type": "code",
   "execution_count": 50,
   "metadata": {},
   "outputs": [],
   "source": [
    "X = df.iloc[:, 1:]\n",
    "X = pd.get_dummies(data=X)\n",
    "y = df[\"Accident_Severity\"]"
   ]
  },
  {
   "cell_type": "code",
   "execution_count": 51,
   "metadata": {},
   "outputs": [],
   "source": [
    "X_train, X_test, y_train, y_test = train_test_split(X, \n",
    "                                                    y, \n",
    "                                                    test_size=0.2, \n",
    "                                                    random_state=1, \n",
    "                                                    stratify=y)"
   ]
  },
  {
   "cell_type": "markdown",
   "metadata": {},
   "source": [
    "### RandomForest"
   ]
  },
  {
   "cell_type": "code",
   "execution_count": 52,
   "metadata": {},
   "outputs": [],
   "source": [
    "param_grid = {'n_estimators': np.arange(50, 201, 50).tolist()}\n",
    "\n",
    "rf = RandomForestClassifier()\n",
    "# Instantiate the grid search model\n",
    "grid_search = GridSearchCV(estimator = rf, param_grid = param_grid, \n",
    "                          cv = 5, n_jobs=8)"
   ]
  },
  {
   "cell_type": "code",
   "execution_count": 53,
   "metadata": {},
   "outputs": [
    {
     "data": {
      "text/plain": [
       "GridSearchCV(cv=5, estimator=RandomForestClassifier(), n_jobs=4,\n",
       "             param_grid={'n_estimators': [50, 100, 150, 200]})"
      ]
     },
     "execution_count": 53,
     "metadata": {},
     "output_type": "execute_result"
    }
   ],
   "source": [
    "grid_search.fit(X_train, y_train)"
   ]
  },
  {
   "cell_type": "code",
   "execution_count": 54,
   "metadata": {},
   "outputs": [
    {
     "name": "stdout",
     "output_type": "stream",
     "text": [
      "[0.83883554 0.84099223 0.84097699 0.8415333 ]\n"
     ]
    }
   ],
   "source": [
    "allscores=grid_search.cv_results_['mean_test_score']\n",
    "print(allscores)"
   ]
  },
  {
   "cell_type": "code",
   "execution_count": 55,
   "metadata": {},
   "outputs": [
    {
     "data": {
      "text/plain": [
       "RandomForestClassifier(n_estimators=200)"
      ]
     },
     "execution_count": 55,
     "metadata": {},
     "output_type": "execute_result"
    }
   ],
   "source": [
    "grid_search.best_estimator_"
   ]
  },
  {
   "cell_type": "code",
   "execution_count": 67,
   "metadata": {},
   "outputs": [
    {
     "data": {
      "image/png": "[encoded data removed]",
      "text/plain": [
       "<Figure size 720x720 with 1 Axes>"
      ]
     },
     "metadata": {
      "needs_background": "light"
     },
     "output_type": "display_data"
    }
   ],
   "source": [
    "importances = grid_search.best_estimator_.feature_importances_\n",
    "feature_names = X.columns.tolist()\n",
    "std = np.std([tree.feature_importances_ for tree in grid_search.best_estimator_.estimators_], axis=0)\n",
    "\n",
    "forest_importances = pd.Series(importances, index=feature_names)\n",
    "\n",
    "fig, ax = plt.subplots()\n",
    "forest_importances.plot.bar(yerr=std, ax=ax, figsize=(10,10))\n",
    "ax.set_title(\"Feature importances using MDI\")\n",
    "ax.set_ylabel(\"Mean decrease in impurity\")\n",
    "fig.tight_layout()"
   ]
  },
  {
   "cell_type": "markdown",
   "metadata": {},
   "source": [
    "### KNN"
   ]
  },
  {
   "cell_type": "code",
   "execution_count": 70,
   "metadata": {},
   "outputs": [
    {
     "name": "stdout",
     "output_type": "stream",
     "text": [
      "KNeighborsClassifier(metric='euclidean')\n",
      "0.831372309943303\n",
      "KNeighborsClassifier(metric='euclidean', n_neighbors=6)\n",
      "0.8258245442906785\n",
      "KNeighborsClassifier(metric='euclidean', n_neighbors=7)\n",
      "0.8408522831189417\n",
      "KNeighborsClassifier(metric='euclidean', n_neighbors=8)\n",
      "0.8371944156556728\n",
      "KNeighborsClassifier(metric='euclidean', n_neighbors=9)\n",
      "0.8446015972687922\n",
      "KNeighborsClassifier(metric='euclidean', n_neighbors=10)\n",
      "0.8437176126318356\n",
      "KNeighborsClassifier(metric='euclidean', n_neighbors=11)\n",
      "0.84713162226422\n",
      "KNeighborsClassifier(metric='euclidean', n_neighbors=12)\n",
      "0.8466134243735902\n",
      "KNeighborsClassifier(metric='euclidean', n_neighbors=13)\n",
      "0.8488691093092727\n",
      "KNeighborsClassifier(metric='euclidean', n_neighbors=14)\n",
      "0.848991038224715\n"
     ]
    },
    {
     "ename": "ValueError",
     "evalue": "x and y must have same first dimension, but have shapes (69,) and (10,)",
     "output_type": "error",
     "traceback": [
      "\u001b[1;31m---------------------------------------------------------------------------\u001b[0m",
      "\u001b[1;31mValueError\u001b[0m                                Traceback (most recent call last)",
      "\u001b[1;32m<ipython-input-70-4cf27e0283d6>\u001b[0m in \u001b[0;36m<module>\u001b[1;34m\u001b[0m\n\u001b[0;32m      8\u001b[0m     \u001b[0mprint\u001b[0m\u001b[1;33m(\u001b[0m\u001b[0mnp\u001b[0m\u001b[1;33m.\u001b[0m\u001b[0mmean\u001b[0m\u001b[1;33m(\u001b[0m\u001b[0mpred_i\u001b[0m \u001b[1;33m==\u001b[0m\u001b[0mnp\u001b[0m\u001b[1;33m.\u001b[0m\u001b[0mravel\u001b[0m\u001b[1;33m(\u001b[0m\u001b[0my_test\u001b[0m\u001b[1;33m)\u001b[0m\u001b[1;33m)\u001b[0m\u001b[1;33m)\u001b[0m\u001b[1;33m\u001b[0m\u001b[1;33m\u001b[0m\u001b[0m\n\u001b[0;32m      9\u001b[0m     \u001b[0maccuracies\u001b[0m\u001b[1;33m.\u001b[0m\u001b[0mappend\u001b[0m\u001b[1;33m(\u001b[0m\u001b[0mnp\u001b[0m\u001b[1;33m.\u001b[0m\u001b[0mmean\u001b[0m\u001b[1;33m(\u001b[0m\u001b[0mpred_i\u001b[0m \u001b[1;33m==\u001b[0m\u001b[0mnp\u001b[0m\u001b[1;33m.\u001b[0m\u001b[0mravel\u001b[0m\u001b[1;33m(\u001b[0m\u001b[0my_test\u001b[0m\u001b[1;33m)\u001b[0m\u001b[1;33m)\u001b[0m\u001b[1;33m)\u001b[0m\u001b[1;33m\u001b[0m\u001b[1;33m\u001b[0m\u001b[0m\n\u001b[1;32m---> 10\u001b[1;33m \u001b[0mplt\u001b[0m\u001b[1;33m.\u001b[0m\u001b[0mplot\u001b[0m\u001b[1;33m(\u001b[0m\u001b[0mrange\u001b[0m\u001b[1;33m(\u001b[0m\u001b[1;36m1\u001b[0m\u001b[1;33m,\u001b[0m \u001b[1;36m70\u001b[0m\u001b[1;33m)\u001b[0m\u001b[1;33m,\u001b[0m \u001b[0maccuracies\u001b[0m\u001b[1;33m,\u001b[0m \u001b[0mlinestyle\u001b[0m\u001b[1;33m=\u001b[0m\u001b[1;34m'--'\u001b[0m\u001b[1;33m)\u001b[0m\u001b[1;33m\u001b[0m\u001b[1;33m\u001b[0m\u001b[0m\n\u001b[0m\u001b[0;32m     11\u001b[0m \u001b[0mplt\u001b[0m\u001b[1;33m.\u001b[0m\u001b[0mtitle\u001b[0m\u001b[1;33m(\u001b[0m\u001b[1;34m'K versus accuracy'\u001b[0m\u001b[1;33m)\u001b[0m\u001b[1;33m\u001b[0m\u001b[1;33m\u001b[0m\u001b[0m\n\u001b[0;32m     12\u001b[0m \u001b[0mplt\u001b[0m\u001b[1;33m.\u001b[0m\u001b[0mxlabel\u001b[0m\u001b[1;33m(\u001b[0m\u001b[1;34m'K'\u001b[0m\u001b[1;33m)\u001b[0m\u001b[1;33m\u001b[0m\u001b[1;33m\u001b[0m\u001b[0m\n",
      "\u001b[1;32m~\\Anaconda3\\lib\\site-packages\\matplotlib\\pyplot.py\u001b[0m in \u001b[0;36mplot\u001b[1;34m(scalex, scaley, data, *args, **kwargs)\u001b[0m\n\u001b[0;32m   2761\u001b[0m     return gca().plot(\n\u001b[0;32m   2762\u001b[0m         *args, scalex=scalex, scaley=scaley, **({\"data\": data} if data\n\u001b[1;32m-> 2763\u001b[1;33m         is not None else {}), **kwargs)\n\u001b[0m\u001b[0;32m   2764\u001b[0m \u001b[1;33m\u001b[0m\u001b[0m\n\u001b[0;32m   2765\u001b[0m \u001b[1;33m\u001b[0m\u001b[0m\n",
      "\u001b[1;32m~\\Anaconda3\\lib\\site-packages\\matplotlib\\axes\\_axes.py\u001b[0m in \u001b[0;36mplot\u001b[1;34m(self, scalex, scaley, data, *args, **kwargs)\u001b[0m\n\u001b[0;32m   1644\u001b[0m         \"\"\"\n\u001b[0;32m   1645\u001b[0m         \u001b[0mkwargs\u001b[0m \u001b[1;33m=\u001b[0m \u001b[0mcbook\u001b[0m\u001b[1;33m.\u001b[0m\u001b[0mnormalize_kwargs\u001b[0m\u001b[1;33m(\u001b[0m\u001b[0mkwargs\u001b[0m\u001b[1;33m,\u001b[0m \u001b[0mmlines\u001b[0m\u001b[1;33m.\u001b[0m\u001b[0mLine2D\u001b[0m\u001b[1;33m)\u001b[0m\u001b[1;33m\u001b[0m\u001b[1;33m\u001b[0m\u001b[0m\n\u001b[1;32m-> 1646\u001b[1;33m         \u001b[0mlines\u001b[0m \u001b[1;33m=\u001b[0m \u001b[1;33m[\u001b[0m\u001b[1;33m*\u001b[0m\u001b[0mself\u001b[0m\u001b[1;33m.\u001b[0m\u001b[0m_get_lines\u001b[0m\u001b[1;33m(\u001b[0m\u001b[1;33m*\u001b[0m\u001b[0margs\u001b[0m\u001b[1;33m,\u001b[0m \u001b[0mdata\u001b[0m\u001b[1;33m=\u001b[0m\u001b[0mdata\u001b[0m\u001b[1;33m,\u001b[0m \u001b[1;33m**\u001b[0m\u001b[0mkwargs\u001b[0m\u001b[1;33m)\u001b[0m\u001b[1;33m]\u001b[0m\u001b[1;33m\u001b[0m\u001b[1;33m\u001b[0m\u001b[0m\n\u001b[0m\u001b[0;32m   1647\u001b[0m         \u001b[1;32mfor\u001b[0m \u001b[0mline\u001b[0m \u001b[1;32min\u001b[0m \u001b[0mlines\u001b[0m\u001b[1;33m:\u001b[0m\u001b[1;33m\u001b[0m\u001b[1;33m\u001b[0m\u001b[0m\n\u001b[0;32m   1648\u001b[0m             \u001b[0mself\u001b[0m\u001b[1;33m.\u001b[0m\u001b[0madd_line\u001b[0m\u001b[1;33m(\u001b[0m\u001b[0mline\u001b[0m\u001b[1;33m)\u001b[0m\u001b[1;33m\u001b[0m\u001b[1;33m\u001b[0m\u001b[0m\n",
      "\u001b[1;32m~\\Anaconda3\\lib\\site-packages\\matplotlib\\axes\\_base.py\u001b[0m in \u001b[0;36m__call__\u001b[1;34m(self, *args, **kwargs)\u001b[0m\n\u001b[0;32m    214\u001b[0m                 \u001b[0mthis\u001b[0m \u001b[1;33m+=\u001b[0m \u001b[0margs\u001b[0m\u001b[1;33m[\u001b[0m\u001b[1;36m0\u001b[0m\u001b[1;33m]\u001b[0m\u001b[1;33m,\u001b[0m\u001b[1;33m\u001b[0m\u001b[1;33m\u001b[0m\u001b[0m\n\u001b[0;32m    215\u001b[0m                 \u001b[0margs\u001b[0m \u001b[1;33m=\u001b[0m \u001b[0margs\u001b[0m\u001b[1;33m[\u001b[0m\u001b[1;36m1\u001b[0m\u001b[1;33m:\u001b[0m\u001b[1;33m]\u001b[0m\u001b[1;33m\u001b[0m\u001b[1;33m\u001b[0m\u001b[0m\n\u001b[1;32m--> 216\u001b[1;33m             \u001b[1;32myield\u001b[0m \u001b[1;32mfrom\u001b[0m \u001b[0mself\u001b[0m\u001b[1;33m.\u001b[0m\u001b[0m_plot_args\u001b[0m\u001b[1;33m(\u001b[0m\u001b[0mthis\u001b[0m\u001b[1;33m,\u001b[0m \u001b[0mkwargs\u001b[0m\u001b[1;33m)\u001b[0m\u001b[1;33m\u001b[0m\u001b[1;33m\u001b[0m\u001b[0m\n\u001b[0m\u001b[0;32m    217\u001b[0m \u001b[1;33m\u001b[0m\u001b[0m\n\u001b[0;32m    218\u001b[0m     \u001b[1;32mdef\u001b[0m \u001b[0mget_next_color\u001b[0m\u001b[1;33m(\u001b[0m\u001b[0mself\u001b[0m\u001b[1;33m)\u001b[0m\u001b[1;33m:\u001b[0m\u001b[1;33m\u001b[0m\u001b[1;33m\u001b[0m\u001b[0m\n",
      "\u001b[1;32m~\\Anaconda3\\lib\\site-packages\\matplotlib\\axes\\_base.py\u001b[0m in \u001b[0;36m_plot_args\u001b[1;34m(self, tup, kwargs)\u001b[0m\n\u001b[0;32m    340\u001b[0m \u001b[1;33m\u001b[0m\u001b[0m\n\u001b[0;32m    341\u001b[0m         \u001b[1;32mif\u001b[0m \u001b[0mx\u001b[0m\u001b[1;33m.\u001b[0m\u001b[0mshape\u001b[0m\u001b[1;33m[\u001b[0m\u001b[1;36m0\u001b[0m\u001b[1;33m]\u001b[0m \u001b[1;33m!=\u001b[0m \u001b[0my\u001b[0m\u001b[1;33m.\u001b[0m\u001b[0mshape\u001b[0m\u001b[1;33m[\u001b[0m\u001b[1;36m0\u001b[0m\u001b[1;33m]\u001b[0m\u001b[1;33m:\u001b[0m\u001b[1;33m\u001b[0m\u001b[1;33m\u001b[0m\u001b[0m\n\u001b[1;32m--> 342\u001b[1;33m             raise ValueError(f\"x and y must have same first dimension, but \"\n\u001b[0m\u001b[0;32m    343\u001b[0m                              f\"have shapes {x.shape} and {y.shape}\")\n\u001b[0;32m    344\u001b[0m         \u001b[1;32mif\u001b[0m \u001b[0mx\u001b[0m\u001b[1;33m.\u001b[0m\u001b[0mndim\u001b[0m \u001b[1;33m>\u001b[0m \u001b[1;36m2\u001b[0m \u001b[1;32mor\u001b[0m \u001b[0my\u001b[0m\u001b[1;33m.\u001b[0m\u001b[0mndim\u001b[0m \u001b[1;33m>\u001b[0m \u001b[1;36m2\u001b[0m\u001b[1;33m:\u001b[0m\u001b[1;33m\u001b[0m\u001b[1;33m\u001b[0m\u001b[0m\n",
      "\u001b[1;31mValueError\u001b[0m: x and y must have same first dimension, but have shapes (69,) and (10,)"
     ]
    },
    {
     "data": {
      "image/png": "[encoded data removed]",
      "text/plain": [
       "<Figure size 432x288 with 1 Axes>"
      ]
     },
     "metadata": {
      "needs_background": "light"
     },
     "output_type": "display_data"
    }
   ],
   "source": [
    "accuracies = []\n",
    "\n",
    "for i in range(5, 15):\n",
    "    classifier = KNeighborsClassifier(n_neighbors = i, metric = 'euclidean')\n",
    "    print(classifier)\n",
    "    classifier.fit(X_train, np.ravel(y_train))\n",
    "    pred_i = classifier.predict(X_test)\n",
    "    print(np.mean(pred_i ==np.ravel(y_test)))\n",
    "    accuracies.append(np.mean(pred_i ==np.ravel(y_test)))"
   ]
  },
  {
   "cell_type": "code",
   "execution_count": 74,
   "metadata": {},
   "outputs": [
    {
     "data": {
      "text/plain": [
       "KNeighborsClassifier(metric='euclidean', n_neighbors=13)"
      ]
     },
     "execution_count": 74,
     "metadata": {},
     "output_type": "execute_result"
    }
   ],
   "source": [
    "classifier = KNeighborsClassifier(n_neighbors = 13, metric = 'euclidean')\n",
    "classifier.fit(X_train, np.ravel(y_train))"
   ]
  },
  {
   "cell_type": "markdown",
   "metadata": {},
   "source": [
    "### NaiveBayes"
   ]
  },
  {
   "cell_type": "markdown",
   "metadata": {},
   "source": [
    "## Store model\n",
    "\n",
    "To use the model later in the container we store it via pickle on the hard drive"
   ]
  },
  {
   "cell_type": "code",
   "execution_count": 75,
   "metadata": {},
   "outputs": [
    {
     "data": {
      "text/plain": [
       "['../backend/model/finalized_model.pkl']"
      ]
     },
     "execution_count": 75,
     "metadata": {},
     "output_type": "execute_result"
    }
   ],
   "source": [
    "import pickle\n",
    "import joblib\n",
    "\n",
    "filename = '../backend/model/finalized_model.pkl'\n",
    "\n",
    "joblib.dump(classifier, filename,compress=9)"
   ]
  },
  {
   "cell_type": "markdown",
   "metadata": {},
   "source": [
    "Test if reading it works:"
   ]
  },
  {
   "cell_type": "code",
   "execution_count": 76,
   "metadata": {},
   "outputs": [
    {
     "name": "stdout",
     "output_type": "stream",
     "text": [
      "0.8488691093092727\n"
     ]
    }
   ],
   "source": [
    "loaded_model = joblib.load(filename)\n",
    "result = loaded_model.score(X_test, y_test)\n",
    "print(result)"
   ]
  }
 ],
 "metadata": {
  "kernelspec": {
   "display_name": "Python 3",
   "language": "python",
   "name": "python3"
  },
  "language_info": {
   "codemirror_mode": {
    "name": "ipython",
    "version": 3
   },
   "file_extension": ".py",
   "mimetype": "text/x-python",
   "name": "python",
   "nbconvert_exporter": "python",
   "pygments_lexer": "ipython3",
   "version": "3.7.4"
  }
 },
 "nbformat": 4,
 "nbformat_minor": 4
}
