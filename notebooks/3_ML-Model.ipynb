{
 "cells": [
  {
   "cell_type": "markdown",
   "metadata": {},
   "source": [
    "# ML-Model"
   ]
  },
  {
   "cell_type": "markdown",
   "metadata": {},
   "source": [
    "## Data Preparation"
   ]
  },
  {
   "cell_type": "code",
   "execution_count": 2,
   "metadata": {},
   "outputs": [
    {
     "name": "stderr",
     "output_type": "stream",
     "text": [
      "C:\\Users\\AlexB\\Anaconda3\\lib\\site-packages\\IPython\\core\\interactiveshell.py:3058: DtypeWarning: Columns (31) have mixed types.Specify dtype option on import or set low_memory=False.\n",
      "  interactivity=interactivity, compiler=compiler, result=result)\n"
     ]
    }
   ],
   "source": [
    "import pandas as pd\n",
    "\n",
    "accidents = pd.read_csv('../data/Accidents0514.csv')\n",
    "vehicles = pd.read_csv('../data/Vehicles0514.csv')\n",
    "\n",
    "def read_and_join_description(df, col_name):\n",
    "    col_name_new = col_name.replace('_',' ')\n",
    "    col_name_new = col_name_new.replace('?','')\n",
    "    \n",
    "    col_name_new = col_name_new.replace('Pedestrian Crossing-Human Control','Ped Cross - Human')\n",
    "    col_name_new = col_name_new.replace('Pedestrian Crossing-Physical Facilities','Ped Cross - Physical')\n",
    "    col_name_new = col_name_new.replace('Weather Conditions','Weather')\n",
    "    col_name_new = col_name_new.replace('Road Surface Conditions','Road Surface')\n",
    "    col_name_new = col_name_new.replace('Urban or Rural Area','Urban Rural')\n",
    "    col_name_new = col_name_new.replace('Did Police Officer Attend Scene of Accident','Police Officer Attend')\n",
    "    col_name_new = col_name_new.replace('Pedestrian ','Ped ')\n",
    "    col_name_new = col_name_new.replace('Bus or Coach Passenger','Bus Passenger')\n",
    "    col_name_new = col_name_new.replace('Casualty Home Area Type','Home Area Type')\n",
    "    col_name_new = col_name_new.replace('Vehicle Location-Restricted Lane','Vehicle Location')\n",
    "    col_name_new = col_name_new.replace('Vehicle Leaving Carriageway','Veh Leaving Carriageway')\n",
    "    col_name_new = col_name_new.replace('Hit Object off Carriageway','Hit Object Off Carriageway')\n",
    "    col_name_new = col_name_new.replace('Journey Purpose of Driver','Journey Purpose')\n",
    "    col_name_new = col_name_new.replace('Age Band of Casualty','Age Band')\n",
    "    col_name_new = col_name_new.replace('Age Band of Driver','Age Band')\n",
    "    col_name_new = col_name_new.replace('Propulsion Code','Vehicle Propulsion Code')\n",
    "    col_name_new = col_name_new.replace('Driver Home Area Type','Home Area Type')\n",
    "    \n",
    "    excel_data = pd.read_excel(open('../data/Road-Accident-Safety-Data-Guide.xls', 'rb'),sheet_name=col_name_new) \n",
    "    excel_data.columns = excel_data.columns.str.lower()\n",
    "    excel_data = excel_data.add_prefix(col_name+'_')\n",
    "    \n",
    "    final_df = pd.merge(df, excel_data, how = 'left', left_on=col_name, right_on=col_name+'_code')\n",
    "    final_df.drop([col_name+'_code',col_name], axis=1,inplace=True)\n",
    "    final_df.columns = final_df.columns.str.replace('_label','')\n",
    "    return final_df\n",
    "\n",
    "accidents_full = accidents.copy()\n",
    "\n",
    "for name in ['Police_Force',\n",
    " 'Accident_Severity',\n",
    " 'Day_of_Week',\n",
    " 'Local_Authority_(District)',\n",
    " 'Local_Authority_(Highway)',\n",
    " '1st_Road_Class',\n",
    " 'Road_Type',\n",
    " 'Junction_Detail',\n",
    " 'Junction_Control',\n",
    " '2nd_Road_Class',\n",
    " 'Pedestrian_Crossing-Human_Control',\n",
    " 'Pedestrian_Crossing-Physical_Facilities',\n",
    " 'Light_Conditions',\n",
    " 'Weather_Conditions',\n",
    " 'Road_Surface_Conditions',\n",
    " 'Special_Conditions_at_Site',\n",
    " 'Carriageway_Hazards',\n",
    " 'Urban_or_Rural_Area',\n",
    " 'Did_Police_Officer_Attend_Scene_of_Accident']:\n",
    "    accidents_full = read_and_join_description(accidents_full, name)\n",
    "    \n",
    "vehicles_full = vehicles.copy()\n",
    "\n",
    "for name in ['Vehicle_Type',\n",
    " 'Towing_and_Articulation',\n",
    " 'Vehicle_Manoeuvre',\n",
    " 'Vehicle_Location-Restricted_Lane',\n",
    " 'Junction_Location',\n",
    " 'Skidding_and_Overturning',\n",
    " 'Hit_Object_in_Carriageway',\n",
    " 'Vehicle_Leaving_Carriageway',\n",
    " 'Hit_Object_off_Carriageway',\n",
    " '1st_Point_of_Impact',\n",
    " 'Was_Vehicle_Left_Hand_Drive?',\n",
    " 'Journey_Purpose_of_Driver',\n",
    " 'Sex_of_Driver',\n",
    " 'Age_Band_of_Driver',\n",
    " 'Propulsion_Code']:\n",
    "    vehicles_full = read_and_join_description(vehicles_full, name)\n",
    "    \n"
   ]
  },
  {
   "cell_type": "code",
   "execution_count": 4,
   "metadata": {},
   "outputs": [
    {
     "data": {
      "text/plain": [
       "Index(['Accident_Index', 'Vehicle_Reference', 'Age_of_Driver',\n",
       "       'Engine_Capacity_(CC)', 'Age_of_Vehicle', 'Driver_IMD_Decile',\n",
       "       'Driver_Home_Area_Type', 'Vehicle_Type', 'Towing_and_Articulation',\n",
       "       'Vehicle_Manoeuvre', 'Vehicle_Location-Restricted_Lane',\n",
       "       'Junction_Location', 'Skidding_and_Overturning',\n",
       "       'Hit_Object_in_Carriageway', 'Vehicle_Leaving_Carriageway',\n",
       "       'Hit_Object_off_Carriageway', '1st_Point_of_Impact',\n",
       "       'Was_Vehicle_Left_Hand_Drive?', 'Journey_Purpose_of_Driver',\n",
       "       'Sex_of_Driver', 'Age_Band_of_Driver', 'Propulsion_Code'],\n",
       "      dtype='object')"
      ]
     },
     "execution_count": 4,
     "metadata": {},
     "output_type": "execute_result"
    }
   ],
   "source": [
    "vehicles_full.columns"
   ]
  },
  {
   "cell_type": "code",
   "execution_count": 9,
   "metadata": {},
   "outputs": [
    {
     "data": {
      "text/plain": [
       "0                                            Car\n",
       "1           Bus or coach (17 or more pass seats)\n",
       "5                     Motorcycle 125cc and under\n",
       "14                                 Other vehicle\n",
       "21                         Motorcycle over 500cc\n",
       "32                                   Pedal cycle\n",
       "36           Van / Goods 3.5 tonnes mgw or under\n",
       "44         Motorcycle over 125cc and up to 500cc\n",
       "74                         Taxi/Private hire car\n",
       "91                 Goods 7.5 tonnes mgw and over\n",
       "132              Goods over 3.5t. and under 7.5t\n",
       "142                    Motorcycle 50cc and under\n",
       "255             Minibus (8 - 16 passenger seats)\n",
       "2072                        Agricultural vehicle\n",
       "32752                                       Tram\n",
       "32816                               Ridden horse\n",
       "52229               Data missing or out of range\n",
       "2047823                  Motorcycle - unknown cc\n",
       "2078549                         Mobility scooter\n",
       "2292246           Goods vehicle - unknown weight\n",
       "2570110                      Electric motorcycle\n",
       "Name: Vehicle_Type, dtype: object"
      ]
     },
     "execution_count": 9,
     "metadata": {},
     "output_type": "execute_result"
    }
   ],
   "source": [
    "vehicles_full['Vehicle_Type'].drop_duplicates()"
   ]
  },
  {
   "cell_type": "code",
   "execution_count": 7,
   "metadata": {},
   "outputs": [
    {
     "data": {
      "text/plain": [
       "Index(['Accident_Index', 'Location_Easting_OSGR', 'Location_Northing_OSGR',\n",
       "       'Longitude', 'Latitude', 'Number_of_Vehicles', 'Number_of_Casualties',\n",
       "       'Date', 'Time', '1st_Road_Number', 'Speed_limit', '2nd_Road_Number',\n",
       "       'LSOA_of_Accident_Location', 'Police_Force', 'Accident_Severity',\n",
       "       'Day_of_Week', 'Local_Authority_(District)',\n",
       "       'Local_Authority_(Highway)', '1st_Road_Class', 'Road_Type',\n",
       "       'Junction_Detail', 'Junction_Control', '2nd_Road_Class',\n",
       "       'Pedestrian_Crossing-Human_Control',\n",
       "       'Pedestrian_Crossing-Physical_Facilities', 'Light_Conditions',\n",
       "       'Weather_Conditions', 'Road_Surface_Conditions',\n",
       "       'Special_Conditions_at_Site', 'Carriageway_Hazards',\n",
       "       'Urban_or_Rural_Area', 'Did_Police_Officer_Attend_Scene_of_Accident'],\n",
       "      dtype='object')"
      ]
     },
     "execution_count": 7,
     "metadata": {},
     "output_type": "execute_result"
    }
   ],
   "source": [
    "accidents_full.columns"
   ]
  },
  {
   "cell_type": "markdown",
   "metadata": {},
   "source": [
    "Used for ML Model: \n",
    "\n",
    "Accidents: Day_of_Week, 1st_Road_Class, Weather_Conditions, Road_Surface_Conditions, Special_Conditions_at_Site, Urban_or_Rural_Area, Time of year, Time of day, Longitude, Latitude\n",
    "\n",
    "Vehicles: Vehicle Types in Accident\n",
    "\n",
    "To predict: Accident_Severity"
   ]
  }
 ],
 "metadata": {
  "kernelspec": {
   "display_name": "Python 3",
   "language": "python",
   "name": "python3"
  },
  "language_info": {
   "codemirror_mode": {
    "name": "ipython",
    "version": 3
   },
   "file_extension": ".py",
   "mimetype": "text/x-python",
   "name": "python",
   "nbconvert_exporter": "python",
   "pygments_lexer": "ipython3",
   "version": "3.7.4"
  }
 },
 "nbformat": 4,
 "nbformat_minor": 4
}
