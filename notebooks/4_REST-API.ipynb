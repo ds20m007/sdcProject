{
 "cells": [
  {
   "cell_type": "markdown",
   "metadata": {},
   "source": [
    "# REST API Tests"
   ]
  },
  {
   "cell_type": "markdown",
   "metadata": {},
   "source": [
    "### Downloading dependencies"
   ]
  },
  {
   "cell_type": "code",
   "execution_count": 3,
   "metadata": {},
   "outputs": [
    {
     "name": "stdout",
     "output_type": "stream",
     "text": [
      "Collecting fastapi\n",
      "  Downloading fastapi-0.70.1-py3-none-any.whl (51 kB)\n",
      "\u001b[K     |████████████████████████████████| 51 kB 1.1 MB/s eta 0:00:011\n",
      "\u001b[?25hCollecting starlette==0.16.0\n",
      "  Using cached starlette-0.16.0-py3-none-any.whl (61 kB)\n",
      "Collecting pydantic!=1.7,!=1.7.1,!=1.7.2,!=1.7.3,!=1.8,!=1.8.1,<2.0.0,>=1.6.2\n",
      "  Downloading pydantic-1.9.0-cp38-cp38-macosx_10_9_x86_64.whl (2.9 MB)\n",
      "\u001b[K     |████████████████████████████████| 2.9 MB 4.1 MB/s eta 0:00:01\n",
      "\u001b[?25hRequirement already satisfied: anyio<4,>=3.0.0 in /Users/johannes/opt/anaconda3/lib/python3.8/site-packages (from starlette==0.16.0->fastapi) (3.4.0)\n",
      "Requirement already satisfied: typing-extensions>=3.7.4.3 in /Users/johannes/.local/lib/python3.8/site-packages (from pydantic!=1.7,!=1.7.1,!=1.7.2,!=1.7.3,!=1.8,!=1.8.1,<2.0.0,>=1.6.2->fastapi) (3.7.4.3)\n",
      "Requirement already satisfied: sniffio>=1.1 in /Users/johannes/opt/anaconda3/lib/python3.8/site-packages (from anyio<4,>=3.0.0->starlette==0.16.0->fastapi) (1.2.0)\n",
      "Requirement already satisfied: idna>=2.8 in /Users/johannes/opt/anaconda3/lib/python3.8/site-packages (from anyio<4,>=3.0.0->starlette==0.16.0->fastapi) (2.10)\n",
      "Installing collected packages: starlette, pydantic, fastapi\n",
      "Successfully installed fastapi-0.70.1 pydantic-1.9.0 starlette-0.16.0\n",
      "Note: you may need to restart the kernel to use updated packages.\n"
     ]
    }
   ],
   "source": [
    "pip install fastapi"
   ]
  },
  {
   "cell_type": "code",
   "execution_count": 4,
   "metadata": {},
   "outputs": [
    {
     "name": "stdout",
     "output_type": "stream",
     "text": [
      "Collecting uvicorn[standard]\n",
      "  Downloading uvicorn-0.16.0-py3-none-any.whl (54 kB)\n",
      "\u001b[K     |████████████████████████████████| 54 kB 2.6 MB/s eta 0:00:011\n",
      "\u001b[?25hRequirement already satisfied: click>=7.0 in /Users/johannes/opt/anaconda3/lib/python3.8/site-packages (from uvicorn[standard]) (7.1.2)\n",
      "Collecting asgiref>=3.4.0\n",
      "  Using cached asgiref-3.4.1-py3-none-any.whl (25 kB)\n",
      "Collecting h11>=0.8\n",
      "  Using cached h11-0.12.0-py3-none-any.whl (54 kB)\n",
      "Collecting uvloop!=0.15.0,!=0.15.1,>=0.14.0; (sys_platform != \"win32\" and (sys_platform != \"cygwin\" and platform_python_implementation != \"PyPy\")) and extra == \"standard\"\n",
      "  Downloading uvloop-0.16.0-cp38-cp38-macosx_10_9_x86_64.whl (1.5 MB)\n",
      "\u001b[K     |████████████████████████████████| 1.5 MB 6.2 MB/s eta 0:00:01\n",
      "\u001b[?25hRequirement already satisfied: PyYAML>=5.1; extra == \"standard\" in /Users/johannes/opt/anaconda3/lib/python3.8/site-packages (from uvicorn[standard]) (5.3.1)\n",
      "Collecting httptools<0.4.0,>=0.2.0; extra == \"standard\"\n",
      "  Downloading httptools-0.3.0-cp38-cp38-macosx_10_9_x86_64.whl (155 kB)\n",
      "\u001b[K     |████████████████████████████████| 155 kB 20.8 MB/s eta 0:00:01\n",
      "\u001b[?25hCollecting watchgod>=0.6; extra == \"standard\"\n",
      "  Downloading watchgod-0.7-py3-none-any.whl (11 kB)\n",
      "Collecting python-dotenv>=0.13; extra == \"standard\"\n",
      "  Downloading python_dotenv-0.19.2-py2.py3-none-any.whl (17 kB)\n",
      "Collecting websockets>=10.0; python_version >= \"3.7\" and extra == \"standard\"\n",
      "  Downloading websockets-10.1-cp38-cp38-macosx_10_9_x86_64.whl (96 kB)\n",
      "\u001b[K     |████████████████████████████████| 96 kB 12.8 MB/s eta 0:00:01\n",
      "\u001b[?25hInstalling collected packages: asgiref, h11, uvloop, httptools, watchgod, python-dotenv, websockets, uvicorn\n",
      "Successfully installed asgiref-3.4.1 h11-0.12.0 httptools-0.3.0 python-dotenv-0.19.2 uvicorn-0.16.0 uvloop-0.16.0 watchgod-0.7 websockets-10.1\n",
      "Note: you may need to restart the kernel to use updated packages.\n"
     ]
    }
   ],
   "source": [
    "pip install \"uvicorn[standard]\""
   ]
  },
  {
   "cell_type": "markdown",
   "metadata": {},
   "source": [
    "## Creating app.py file\n",
    "Next we create an app.py file (we use the %%file operator to save the next block as file in our backend folder)."
   ]
  },
  {
   "cell_type": "code",
   "execution_count": 2,
   "metadata": {},
   "outputs": [
    {
     "name": "stdout",
     "output_type": "stream",
     "text": [
      "Overwriting ../backend/app.py\n"
     ]
    }
   ],
   "source": [
    "%%file ../backend/app.py\n",
    "from fastapi import FastAPI\n",
    "from typing import Optional\n",
    "\n",
    "\n",
    "app = FastAPI()\n",
    "\n",
    "\n",
    "@app.get(\"/\")\n",
    "def read_root():\n",
    "    return {\"Hello\": \"World\"}\n",
    "\n",
    "\n",
    "@app.get(\"/items/{item_id}\")\n",
    "def read_item(item_id: int, q: Optional[str] = None):\n",
    "    return {\"item_id\": item_id, \"q\": q}"
   ]
  },
  {
   "cell_type": "markdown",
   "metadata": {},
   "source": [
    "And now we can start the app"
   ]
  },
  {
   "cell_type": "code",
   "execution_count": null,
   "metadata": {},
   "outputs": [
    {
     "name": "stdout",
     "output_type": "stream",
     "text": [
      "\u001b[32mINFO\u001b[0m:     Started server process [\u001b[36m29753\u001b[0m]\n",
      "\u001b[32mINFO\u001b[0m:     Waiting for application startup.\n",
      "\u001b[32mINFO\u001b[0m:     Application startup complete.\n",
      "\u001b[32mINFO\u001b[0m:     Uvicorn running on \u001b[1mhttp://127.0.0.1:8000\u001b[0m (Press CTRL+C to quit)\n",
      "\u001b[32mINFO\u001b[0m:     127.0.0.1:64724 - \"\u001b[1mGET / HTTP/1.1\u001b[0m\" \u001b[32m200 OK\u001b[0m\n",
      "\u001b[32mINFO\u001b[0m:     127.0.0.1:64724 - \"\u001b[1mGET /favicon.ico HTTP/1.1\u001b[0m\" \u001b[31m404 Not Found\u001b[0m\n",
      "\u001b[32mINFO\u001b[0m:     127.0.0.1:64725 - \"\u001b[1mGET /docs HTTP/1.1\u001b[0m\" \u001b[32m200 OK\u001b[0m\n",
      "\u001b[32mINFO\u001b[0m:     127.0.0.1:64725 - \"\u001b[1mGET /openapi.json HTTP/1.1\u001b[0m\" \u001b[32m200 OK\u001b[0m\n"
     ]
    }
   ],
   "source": [
    "!uvicorn app:app --app-dir=\"$(pwd)/../backend/\""
   ]
  }
 ],
 "metadata": {
  "kernelspec": {
   "display_name": "Python 3",
   "language": "python",
   "name": "python3"
  },
  "language_info": {
   "codemirror_mode": {
    "name": "ipython",
    "version": 3
   },
   "file_extension": ".py",
   "mimetype": "text/x-python",
   "name": "python",
   "nbconvert_exporter": "python",
   "pygments_lexer": "ipython3",
   "version": "3.8.5"
  }
 },
 "nbformat": 4,
 "nbformat_minor": 4
}
